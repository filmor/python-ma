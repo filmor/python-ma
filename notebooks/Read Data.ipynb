{
 "metadata": {
  "name": "Read Data"
 },
 "nbformat": 3,
 "nbformat_minor": 0,
 "worksheets": [
  {
   "cells": [
    {
     "cell_type": "code",
     "collapsed": false,
     "input": [
      "import pandas as pd\n",
      "import numpy as np\n",
      "import os.path as op\n",
      "import tables"
     ],
     "language": "python",
     "metadata": {},
     "outputs": []
    },
    {
     "cell_type": "code",
     "collapsed": false,
     "input": [
      "name = \"eta\"\n",
      "path = op.join(\"..\", \"data\", name)"
     ],
     "language": "python",
     "metadata": {},
     "outputs": []
    },
    {
     "cell_type": "code",
     "collapsed": false,
     "input": [
      "import glob, os.path\n",
      "files = glob.glob(op.join(path, \"*\"))\n",
      "\n",
      "files = pd.DataFrame(\n",
      "        [\n",
      "            tuple(\n",
      "                map(int, os.path.basename(i).split(\".\")[3:6])\n",
      "            ) + (i,)\n",
      "            for i in files\n",
      "        ], columns=[\"x\", \"y\", \"run\", \"filename\"])"
     ],
     "language": "python",
     "metadata": {},
     "outputs": []
    },
    {
     "cell_type": "code",
     "collapsed": false,
     "input": [
      "runs = 1000\n",
      "size = 3\n",
      "t_max = 32\n",
      "\n",
      "# Shape of base data: run, t, matrix (6, 6)\n",
      "raw_data = np.zeros((runs, t_max, size * 2, size * 2))\n",
      "\n",
      "for run, df in files.groupby(\"run\"):\n",
      "    for _, row in df.iterrows():\n",
      "        x, y, fn = row[\"x\"], row[\"y\"], row[\"filename\"]\n",
      "        \n",
      "        data = pd.read_csv(fn, delim_whitespace=True, skiprows=1,\n",
      "                     names=[\n",
      "                         \"spin\",\n",
      "                         \"local/smeared\",\n",
      "                         \"time\",\n",
      "                         \"data\",\n",
      "                         \"data_2\"\n",
      "                         ]\n",
      "                     )\n",
      "        \n",
      "        for _, file_row in data.iterrows():\n",
      "            # Local/smeared: 1 => fully local; 3 => smeared in x; 5 => smeared in y; 7 => smeared in x and y\n",
      "            ls = file_row[\"local/smeared\"]\n",
      "            x_prime = 2 * x + (ls == 3 or ls == 7)\n",
      "            y_prime = 2 * y + (ls == 5 or ls == 7)\n",
      "            raw_data[run][int(file_row[\"time\"]) - 1][x_prime][y_prime] = file_row[\"data\"]\n",
      "            "
     ],
     "language": "python",
     "metadata": {},
     "outputs": []
    },
    {
     "cell_type": "code",
     "collapsed": false,
     "input": [
      "with tables.open_file(\"../data/base_data.h5\", mode=\"a\", title=\"Base input data\") as table:\n",
      "    try:\n",
      "        table.remove_node(\"/input/%s\" % name)\n",
      "    except tables.NoSuchNodeError:\n",
      "        pass\n",
      "    table.create_array(\"/input\", name, raw_data, title=name, createparents=True)"
     ],
     "language": "python",
     "metadata": {},
     "outputs": []
    }
   ],
   "metadata": {}
  }
 ]
}
