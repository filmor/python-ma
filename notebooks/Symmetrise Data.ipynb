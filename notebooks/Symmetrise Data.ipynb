{
 "metadata": {
  "name": ""
 },
 "nbformat": 3,
 "nbformat_minor": 0,
 "worksheets": [
  {
   "cells": [
    {
     "cell_type": "code",
     "collapsed": false,
     "input": [
      "import numpy as np\n",
      "import scipy as sp\n",
      "import scipy.linalg as la\n",
      "name = \"kaon\""
     ],
     "language": "python",
     "metadata": {},
     "outputs": []
    },
    {
     "cell_type": "code",
     "collapsed": false,
     "input": [
      "import tables\n",
      "with tables.open_file(\"../data/base_data.h5\") as t:\n",
      "    data = np.array(t.get_node(\"/input/%s\" % name))"
     ],
     "language": "python",
     "metadata": {},
     "outputs": []
    },
    {
     "cell_type": "code",
     "collapsed": false,
     "input": [
      "def symmetrised(m):\n",
      "    off_diagonal = (la.tril(m, k=-1) + la.triu(m, k=1).transpose()) / 2\n",
      "    return off_diagonal + sp.diagflat(sp.diagonal(m)) + off_diagonal.transpose()\n",
      "\n",
      "def symmetrise_data(data):\n",
      "    new_one = np.zeros_like(data)\n",
      "    for i, d in enumerate(new_one):\n",
      "        for j, m in enumerate(d):\n",
      "            new_one[i][j] = symmetrised(data[i][j])\n",
      "    return new_one"
     ],
     "language": "python",
     "metadata": {},
     "outputs": []
    },
    {
     "cell_type": "code",
     "collapsed": false,
     "input": [
      "sym_data = symmetrise_data(data)"
     ],
     "language": "python",
     "metadata": {},
     "outputs": []
    },
    {
     "cell_type": "code",
     "collapsed": false,
     "input": [
      "with tables.open_file(\"../data/base_data.h5\", mode=\"a\", title=\"Base input data\") as table:\n",
      "    try:\n",
      "        table.remove_node(\"/input/%s_sym\" % name)\n",
      "    except tables.NoSuchNodeError:\n",
      "        pass\n",
      "    table.create_array(\"/input\", \"%s_sym\" % name, sym_data, title=name, createparents=True)"
     ],
     "language": "python",
     "metadata": {},
     "outputs": []
    },
    {
     "cell_type": "code",
     "collapsed": false,
     "input": [
      "difference = sym_data - data\n",
      "error = np.array([ la.norm(symmetrised(m) - m) for d in difference for m in d ])"
     ],
     "language": "python",
     "metadata": {},
     "outputs": []
    },
    {
     "cell_type": "code",
     "collapsed": false,
     "input": [
      "_ = plt.hist(error, bins=100)"
     ],
     "language": "python",
     "metadata": {},
     "outputs": []
    },
    {
     "cell_type": "code",
     "collapsed": false,
     "input": [],
     "language": "python",
     "metadata": {},
     "outputs": []
    }
   ],
   "metadata": {}
  }
 ]
}
