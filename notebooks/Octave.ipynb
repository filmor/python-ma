{
 "metadata": {
  "name": ""
 },
 "nbformat": 3,
 "nbformat_minor": 0,
 "worksheets": [
  {
   "cells": [
    {
     "cell_type": "code",
     "collapsed": false,
     "input": [
      "%load_ext octavemagic"
     ],
     "language": "python",
     "metadata": {},
     "outputs": []
    },
    {
     "cell_type": "code",
     "collapsed": false,
     "input": [
      "%%octave\n",
      "a = [1 2 3; 3 4 5; 2 1 3]"
     ],
     "language": "python",
     "metadata": {},
     "outputs": []
    },
    {
     "cell_type": "code",
     "collapsed": false,
     "input": [
      "def test():\n",
      "    %octave_pull a\n",
      "    return a"
     ],
     "language": "python",
     "metadata": {},
     "outputs": []
    },
    {
     "cell_type": "code",
     "collapsed": false,
     "input": [
      "import oct2py\n",
      "oc = oct2py.Oct2Py()\n",
      "oc.addpath(\"../external\")\n",
      "-oc.eigifp(-A, B, 2)\n",
      "\n",
      "def eigifp(A, B):\n",
      "    return (-oc.eigifp(-A, B, 2), 0)\n",
      "\n",
      "def regeig(A, B):\n",
      "    ev, ew = oc.call(\"regeig\", -A, B, nout=2)\n",
      "    return -ev.transpose()[0], ew"
     ],
     "language": "python",
     "metadata": {},
     "outputs": []
    }
   ],
   "metadata": {}
  }
 ]
}
