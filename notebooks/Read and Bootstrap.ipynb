{
 "metadata": {
  "name": "Read and Bootstrap"
 },
 "nbformat": 3,
 "nbformat_minor": 0,
 "worksheets": [
  {
   "cells": [
    {
     "cell_type": "code",
     "collapsed": false,
     "input": [
      "import pandas as pd\n",
      "import numpy as np\n",
      "import os.path as op\n",
      "import tables"
     ],
     "language": "python",
     "metadata": {},
     "outputs": []
    },
    {
     "cell_type": "code",
     "collapsed": false,
     "input": [
      "name = \"eta\"\n",
      "path = op.join(\"..\", \"data\", name)"
     ],
     "language": "python",
     "metadata": {},
     "outputs": []
    },
    {
     "cell_type": "code",
     "collapsed": false,
     "input": [
      "import glob, os.path\n",
      "files = glob.glob(op.join(path, \"*\"))\n",
      "\n",
      "files = pd.DataFrame(\n",
      "        [\n",
      "            tuple(\n",
      "                map(int, os.path.basename(i).split(\".\")[3:6])\n",
      "            ) + (i,)\n",
      "            for i in files\n",
      "        ], columns=[\"x\", \"y\", \"run\", \"filename\"])"
     ],
     "language": "python",
     "metadata": {},
     "outputs": []
    },
    {
     "cell_type": "code",
     "collapsed": false,
     "input": [
      "runs = 1000\n",
      "size = 3\n",
      "t_max = 32\n",
      "\n",
      "# Shape of base data: run, t, matrix (6, 6)\n",
      "raw_data = np.zeros((runs, t_max, size * 2, size * 2))\n",
      "\n",
      "for run, df in files.groupby(\"run\"):\n",
      "    for _, row in df.iterrows():\n",
      "        x, y, fn = row[\"x\"], row[\"y\"], row[\"filename\"]\n",
      "        \n",
      "        data = pd.read_csv(fn, delim_whitespace=True, skiprows=1,\n",
      "                     names=[\n",
      "                         \"spin\",\n",
      "                         \"local/smeared\",\n",
      "                         \"time\",\n",
      "                         \"data\",\n",
      "                         \"data_2\"\n",
      "                         ]\n",
      "                     )\n",
      "        \n",
      "        for _, file_row in data.iterrows():\n",
      "            # Local/smeared: 1 => fully local; 3 => smeared in x; 5 => smeared in y; 7 => smeared in x and y\n",
      "            ls = file_row[\"local/smeared\"]\n",
      "            x_prime = 2 * x + (ls == 3 or ls == 7)\n",
      "            y_prime = 2 * y + (ls == 5 or ls == 7)\n",
      "            raw_data[run][int(file_row[\"time\"]) - 1][x_prime][y_prime] = file_row[\"data\"]\n",
      "            "
     ],
     "language": "python",
     "metadata": {},
     "outputs": []
    },
    {
     "cell_type": "code",
     "collapsed": false,
     "input": [
      "import numpy.random as npr\n",
      "\n",
      "def bootstrap_indices(count, sample_size, original_size):\n",
      "    for i in range(count):\n",
      "        yield npr.random_integers(0, original_size - 1, sample_size)"
     ],
     "language": "python",
     "metadata": {},
     "outputs": []
    },
    {
     "cell_type": "code",
     "collapsed": false,
     "input": [
      "# Shape of bootstrapped data: run * 4, kind (0 => mean, 1 => std), t, matrix\n",
      "bootstrapped = np.zeros((raw_data.shape[0] * 4, 2) + raw_data.shape[1:])\n",
      "\n",
      "sample_size = data.shape[0]\n",
      "new_sample_size = sample_size * 4\n",
      "\n",
      "for n, i in enumerate(bootstrap_indices(new_sample_size, sample_size, sample_size)):\n",
      "    view = raw_data[i]\n",
      "    output_view = bootstrapped[n]\n",
      "    output_view[0] = view.mean(axis=0)\n",
      "    output_view[1] = view.std(axis=0)"
     ],
     "language": "python",
     "metadata": {},
     "outputs": []
    },
    {
     "cell_type": "code",
     "collapsed": false,
     "input": [
      "with tables.open_file(\"base_data.h5\", mode=\"w\", title=\"Base input data\") as table:\n",
      "    table.create_array(\"/raw\", name, raw_data, title=name, createparents=True)\n",
      "    table.create_array(\"/bootstrap\", name, bootstrapped, title=name, createparents=True)"
     ],
     "language": "python",
     "metadata": {},
     "outputs": []
    },
    {
     "cell_type": "code",
     "collapsed": false,
     "input": [],
     "language": "python",
     "metadata": {},
     "outputs": []
    }
   ],
   "metadata": {}
  }
 ]
}
