{
 "metadata": {
  "name": ""
 },
 "nbformat": 3,
 "nbformat_minor": 0,
 "worksheets": [
  {
   "cells": [
    {
     "cell_type": "code",
     "collapsed": false,
     "input": [
      "import pandas as pd\n",
      "from pyma.masses import *\n",
      "from pyma.noise_filter import *\n",
      "\n",
      "store = pd.HDFStore(\"/media/data/test.h5\", \"r\")\n",
      "\n",
      "def do_plot(name, t0, ev, filter=lambda x: x):\n",
      "    try:\n",
      "        data = store[name]\n",
      "    except KeyError:\n",
      "        print(name, \"not found\")\n",
      "        return\n",
      "    if not hasattr(gca(), \"_displace\"):\n",
      "        gca()._displace = 0\n",
      "    \n",
      "    plot_mass(gca(), calc_mass_curve(data, t0, ev, filter=filter), name + \" \" + str(t0) + \" \" + str(ev))\n",
      "    gca()._displace += 0.1"
     ],
     "language": "python",
     "metadata": {},
     "outputs": []
    },
    {
     "cell_type": "code",
     "collapsed": false,
     "input": [
      "print(\"\\n\".join(i for i in str(store).split(\"\\n\") if \"pion\" in i))"
     ],
     "language": "python",
     "metadata": {},
     "outputs": []
    },
    {
     "cell_type": "code",
     "collapsed": false,
     "input": [
      "gca().set_xlim((0, 15))\n",
      "gca().set_ylim((0, 1.0))\n",
      "displace = 0\n",
      "plots = [\n",
      "#(\"/gevs/eta/sp/unfiltered\", 0, 1, lambda x: ise_algorithm(x, 2, 6)),\n",
      "#(\"/gevs/eta/sp/unfiltered\", 0, 1),\n",
      "(\"/gevs/eta/sp/unfiltered\", 0, 0),\n",
      "(\"/gevs/eta/sp/unfiltered\", 0, 1),\n",
      "#(\"/gevs/eta/sp/ise_l1_n2_p3\", 0, 1),\n",
      "#(\"/gevs/eta/sp/ise_l2_p4\", 0, 1),\n",
      "#(\"/gevs/eta/sp/unfiltered\", 0, 0),\n",
      "#(\"/gevs/pion/sp/unfiltered\", 0, 0)\n",
      "\n",
      "]\n",
      "for args in plots:\n",
      "    do_plot(*args)\n",
      "#_ = legend()\n",
      "plot([0.280895894022] * 15)\n",
      "#plot([0.234] * 15)"
     ],
     "language": "python",
     "metadata": {},
     "outputs": []
    },
    {
     "cell_type": "code",
     "collapsed": false,
     "input": [
      "matplotlib.rcParams['axes.unicode_minus'] = False\n",
      "\n",
      "import tables\n",
      "with tables.open_file(\"/media/data/test_backup2.h5\", \"r\") as t:\n",
      "    matrix_entries = np.array(t.get_node(\"/data/eta/unfiltered\"))"
     ],
     "language": "python",
     "metadata": {},
     "outputs": []
    },
    {
     "cell_type": "code",
     "collapsed": false,
     "input": [
      "def get_spectrum(y):\n",
      "    count = len(y) - 1\n",
      "    count -= not (count % 2)\n",
      "    H2 = get_hankel_matrix(y[:count])\n",
      "    H1 = get_hankel_matrix(y[1:count+1])\n",
      "    ev = np.log(la.eigvals(H1, H2))\n",
      "    res = ev[np.abs(ev.imag) < 0.1]\n",
      "    return np.abs(ev) * np.sign(ev.real)"
     ],
     "language": "python",
     "metadata": {},
     "outputs": []
    },
    {
     "cell_type": "code",
     "collapsed": false,
     "input": [
      "res = {}\n",
      "\n",
      "for n in range(6):\n",
      "    for m in range(n+1):\n",
      "        vals = []\n",
      "        for d in range(1000):\n",
      "            try:\n",
      "                vals += list(get_spectrum(matrix_entries[d,:,n,m]))\n",
      "            except:\n",
      "                pass\n",
      "        figure()\n",
      "        suptitle(\"%s %s\" % (n, m))\n",
      "        hist(vals, log=True, bins=100, range=[-1, 0])\n",
      "        res[(n,m)] = vals\n"
     ],
     "language": "python",
     "metadata": {},
     "outputs": []
    },
    {
     "cell_type": "code",
     "collapsed": false,
     "input": [
      "(fig, axes) = subplots(5, 2, sharey=\"row\", sharex=\"col\", figsize=(6, 8.5))\n",
      "axes = axes.reshape(10)\n",
      "\n",
      "for ax, index in zip(axes, sorted(res)):\n",
      "    # ax.title(\"%s %s\" % (n, m))\n",
      "    ax.hist(res[index], log=True, bins=50, range=[-1, 0], label=\"Exp. in $C_{%s,%s}$\" % index)\n",
      "    ax.legend()\n",
      "\n",
      "fig.tight_layout()\n",
      "fig.savefig(\"../text/figures/histogram.pgf\", format=\"pgf\")"
     ],
     "language": "python",
     "metadata": {},
     "outputs": []
    },
    {
     "cell_type": "code",
     "collapsed": false,
     "input": [
      "import numpy as np\n",
      "import scipy.optimize as opt\n",
      "\n",
      "def fit_gaussian(values, bins):\n",
      "    bin_centers = 0.5 * (bins[1:] + bins[:-1])\n",
      "    \n",
      "    def gauss(x, p): # p[0]==mean, p[1]==stdev\n",
      "        return 1.0/(p[1]*np.sqrt(2*np.pi))*np.exp(-(x-p[0])**2/(2*p[1]**2))\n",
      "    \n",
      "    p0 = [0, 1] # Inital guess is a normal distribution\n",
      "    errfunc = lambda p, x, y: gauss(x, p) - y # Distance to the target function\n",
      "    \n",
      "    X = bin_centers\n",
      "    Y = values\n",
      "    p1, success = opt.leastsq(errfunc, p0[:], args=(X, Y))\n",
      "    \n",
      "    return bin_centers, gauss(bin_centers, p1), p1"
     ],
     "language": "python",
     "metadata": {},
     "outputs": []
    },
    {
     "cell_type": "code",
     "collapsed": false,
     "input": [
      "# Eta'\n",
      "figure(figsize=(5, 3))\n",
      "gca().set_yticks([])\n",
      "(values, bins, _) = hist(res[(0, 0)] + res[(1, 0)] + res[(1, 1)], range=[-0.6, -0.2], bins=50)\n",
      "x, y, (mu, sigma) = fit_gaussian(values, bins)\n",
      "print(mu, sigma)\n",
      "gcf().savefig(\"../text/figures/plot-hist-etaprime.pgf\", format=\"pgf\")"
     ],
     "language": "python",
     "metadata": {},
     "outputs": []
    },
    {
     "cell_type": "code",
     "collapsed": false,
     "input": [
      "def join(iterable):\n",
      "    res = []\n",
      "    for i in iterable:\n",
      "        res += i\n",
      "    return res"
     ],
     "language": "python",
     "metadata": {},
     "outputs": []
    },
    {
     "cell_type": "code",
     "collapsed": false,
     "input": [
      "f = figure()"
     ],
     "language": "python",
     "metadata": {},
     "outputs": []
    },
    {
     "cell_type": "code",
     "collapsed": false,
     "input": [
      "# Eta\n",
      "figure(figsize=(5, 3))\n",
      "gca().set_yticks([])\n",
      "entries = [(4, 2), (4, 3), (4, 4), (5, 2), (5, 3), (5, 5), (3, 2)]\n",
      "(values, bins, _) = hist(join(res[entry] for entry in res), range=[-0.44, -0.1], bins=50)\n",
      "x, y, (mu, sigma) = fit_gaussian(values, bins)\n",
      "print(mu, sigma)\n",
      "gcf().savefig(\"../text/figures/plot-hist-eta.pgf\", format=\"pgf\")"
     ],
     "language": "python",
     "metadata": {},
     "outputs": []
    },
    {
     "cell_type": "code",
     "collapsed": false,
     "input": [
      "import numpy as np\n",
      "import scipy.optimize as opt\n",
      "\n",
      "bin_centers = 0.5 * (bins[1:] + bins[:-1])\n",
      "\n",
      "def gauss(x, p): # p[0]==mean, p[1]==stdev\n",
      "    return 1.0/(p[1]*np.sqrt(2*np.pi))*np.exp(-(x-p[0])**2/(2*p[1]**2))\n",
      "\n",
      "p0 = [0, 1] # Inital guess is a normal distribution\n",
      "errfunc = lambda p, x, y: gauss(x, p) - y # Distance to the target function\n",
      "\n",
      "X = bin_centers\n",
      "Y = values\n",
      "p1, success = opt.leastsq(errfunc, p0[:], args=(X, Y))\n",
      "\n",
      "fit_mu, fit_stdev = p1\n",
      "\n",
      "FWHM = 2*np.sqrt(2*np.log(2))*fit_stdev\n",
      "print(-fit_mu, fit_stdev)\n",
      "print(\"FWHM\", FWHM)"
     ],
     "language": "python",
     "metadata": {},
     "outputs": []
    },
    {
     "cell_type": "code",
     "collapsed": false,
     "input": [
      "p1"
     ],
     "language": "python",
     "metadata": {},
     "outputs": []
    },
    {
     "cell_type": "code",
     "collapsed": false,
     "input": [
      "sample = 0\n",
      "values = 29\n",
      "h2 = data[sample][:values]\n",
      "h1 = data[sample].shift(-1)[:values]"
     ],
     "language": "python",
     "metadata": {},
     "outputs": []
    },
    {
     "cell_type": "code",
     "collapsed": false,
     "input": [
      "H2 = get_hankel_matrix(h2)[:,:]\n",
      "H1 = get_hankel_matrix(h1)[:,:]"
     ],
     "language": "python",
     "metadata": {},
     "outputs": []
    },
    {
     "cell_type": "code",
     "collapsed": false,
     "input": [
      "ev = la.eigvals(H1, H2)\n",
      "print(np.log(ev[np.abs(ev.imag) < 0.1]))"
     ],
     "language": "python",
     "metadata": {},
     "outputs": []
    },
    {
     "cell_type": "code",
     "collapsed": false,
     "input": [
      "la.eigh(la.inv(get_hankel_matrix(h2)), get_hankel_matrix(h1))"
     ],
     "language": "python",
     "metadata": {},
     "outputs": []
    }
   ],
   "metadata": {}
  }
 ]
}
