{
 "metadata": {
  "name": ""
 },
 "nbformat": 3,
 "nbformat_minor": 0,
 "worksheets": [
  {
   "cells": [
    {
     "cell_type": "code",
     "collapsed": false,
     "input": [
      "import pandas as pd\n",
      "from pyma.masses import *\n",
      "from pyma.noise_filter import *\n",
      "\n",
      "store = pd.HDFStore(\"/media/data/test.h5\", \"r\")\n",
      "\n",
      "def do_plot(name, t0, ev, filter=lambda x: x):\n",
      "    try:\n",
      "        data = store[name]\n",
      "    except KeyError:\n",
      "        print(name, \"not found\")\n",
      "        return\n",
      "    if not hasattr(gca(), \"_displace\"):\n",
      "        gca()._displace = 0\n",
      "    \n",
      "    plot_mass(gca(), calc_mass_curve(data, t0, ev, filter=filter), name + \" \" + str(t0) + \" \" + str(ev))\n",
      "    gca()._displace += 0.1"
     ],
     "language": "python",
     "metadata": {},
     "outputs": []
    },
    {
     "cell_type": "code",
     "collapsed": false,
     "input": [
      "print(\"\\n\".join(i for i in str(store).split(\"\\n\") if \"pion\" in i))"
     ],
     "language": "python",
     "metadata": {},
     "outputs": []
    },
    {
     "cell_type": "code",
     "collapsed": false,
     "input": [
      "displace = 0\n",
      "plots = [\n",
      "(\"/gevs/pion/sp/unfiltered\", 0, 1, lambda x: ise_algorithm(x, 2, 6)),\n",
      "(\"/gevs/pion/sp/unfiltered\", 0, 1),\n",
      "(\"/gevs/pion/sp/ise_l1_n2_p3\", 0, 1),\n",
      "(\"/gevs/pion/sp/ise_l2_p4\", 0, 1),\n",
      "(\"/gevs/pion/sfh/unfiltered\", 0, 0),\n",
      "]\n",
      "for args in plots:\n",
      "    do_plot(*args)\n",
      "_ = legend()"
     ],
     "language": "python",
     "metadata": {},
     "outputs": []
    },
    {
     "cell_type": "code",
     "collapsed": false,
     "input": [
      "data = store[\"/gevs/eta/sp/unfiltered\"].xs(0, level=1)[1]"
     ],
     "language": "python",
     "metadata": {},
     "outputs": []
    },
    {
     "cell_type": "code",
     "collapsed": false,
     "input": [
      "avg, std = calc_mass_curve(store[\"/gevs/eta/sp/unfiltered\"], 0, 1)\n",
      "errorbar(avg.index, avg, yerr=std, fmt=\".\")"
     ],
     "language": "python",
     "metadata": {},
     "outputs": []
    },
    {
     "cell_type": "code",
     "collapsed": false,
     "input": [
      "import scipy.linalg as la"
     ],
     "language": "python",
     "metadata": {},
     "outputs": []
    },
    {
     "cell_type": "code",
     "collapsed": false,
     "input": [
      "plot(calc_masses_cosh(h1))\n",
      "plot(calc_masses_exp(h1))"
     ],
     "language": "python",
     "metadata": {},
     "outputs": []
    },
    {
     "cell_type": "code",
     "collapsed": false,
     "input": [
      "import tables\n",
      "with tables.open_file(\"/media/data/test.h5\", \"r\") as t:\n",
      "    matrix_entries = np.array(t.get_node(\"/data/eta/unfiltered\"))"
     ],
     "language": "python",
     "metadata": {},
     "outputs": []
    },
    {
     "cell_type": "code",
     "collapsed": false,
     "input": [
      "def get_spectrum(y):\n",
      "    count = len(y) - 1\n",
      "    count -= not (count % 2)\n",
      "    H2 = get_hankel_matrix(y[:count])\n",
      "    H1 = get_hankel_matrix(y[1:count+1])\n",
      "    ev = np.log(la.eigvals(H1, H2))\n",
      "    ev = ev[np.abs(ev.imag) < 0.2 * np.abs(ev.real)]\n",
      "    return np.abs(ev) * np.sign(ev.real)"
     ],
     "language": "python",
     "metadata": {},
     "outputs": []
    },
    {
     "cell_type": "code",
     "collapsed": false,
     "input": [
      "res = {}\n",
      "\n",
      "for n in range(6):\n",
      "    for m in range(n+1):\n",
      "        vals = []\n",
      "        for d in range(1000):\n",
      "            try:\n",
      "                vals += list(get_spectrum(matrix_entries[d,:,n,m]))\n",
      "            except:\n",
      "                pass\n",
      "        figure()\n",
      "        suptitle(\"%s %s\" % (n, m))\n",
      "        hist(vals, log=True, bins=100, range=[-1, 0])\n",
      "        res[(n,m)] = vals\n"
     ],
     "language": "python",
     "metadata": {},
     "outputs": []
    },
    {
     "cell_type": "code",
     "collapsed": false,
     "input": [
      "# Eta'\n",
      "(values, bins, _) = hist(res[(0, 0)] + res[(1, 0)] + res[(1, 1)], range=[-0.6, -0.2], bins=50)"
     ],
     "language": "python",
     "metadata": {},
     "outputs": []
    },
    {
     "cell_type": "code",
     "collapsed": false,
     "input": [
      "def join(iterable):\n",
      "    res = []\n",
      "    for i in iterable:\n",
      "        res += i\n",
      "    return res"
     ],
     "language": "python",
     "metadata": {},
     "outputs": []
    },
    {
     "cell_type": "code",
     "collapsed": false,
     "input": [
      "# Eta\n",
      "entries = [(5, 5), (5, 3), (5, 2), (4, 4), (4, 3), (4, 2), (3, 2)]\n",
      "(values, bins, _) = hist(join(res[entry] for entry in entries), range=[-0.4, -0.1], bins=50)"
     ],
     "language": "python",
     "metadata": {},
     "outputs": []
    },
    {
     "cell_type": "code",
     "collapsed": false,
     "input": [
      "import numpy as np\n",
      "import scipy.optimize as opt\n",
      "\n",
      "bin_centers = 0.5 * (bins[1:] + bins[:-1])\n",
      "avg = np.sum(bin_centers * values) / np.sum(values)\n",
      "std = np.sqrt(np.sum(values * (bin_centers - avg) ** 2) / np.sum(values))\n",
      "\n",
      "def gauss(x, p): # p[0]==mean, p[1]==stdev\n",
      "    return 1.0/(p[1]*np.sqrt(2*np.pi))*np.exp(-(x-p[0])**2/(2*p[1]**2))\n",
      "\n",
      "errfunc = lambda p, x, y: gauss(x, p) - y # Distance to the target function\n",
      "\n",
      "X = bin_centers\n",
      "Y = values\n",
      "p0 = [0,1] #[X[np.argmax(values)], 0.5 * (bin_centers[0] + bin_centers[-1])] # Inital guess is a normal distribution\n",
      "\n",
      "p1, success = opt.leastsq(errfunc, p0[:], args=(X, Y))\n",
      "\n",
      "fit_mu, fit_stdev = p1\n",
      "\n",
      "FWHM = 2*np.sqrt(2*np.log(2))*fit_stdev\n",
      "print(\"FWHM\", FWHM)\n",
      "print(-fit_mu, fit_stdev)"
     ],
     "language": "python",
     "metadata": {},
     "outputs": []
    },
    {
     "cell_type": "code",
     "collapsed": false,
     "input": [
      "sample = 0\n",
      "values = 29\n",
      "h2 = data[sample][:values]\n",
      "h1 = data[sample].shift(-1)[:values]"
     ],
     "language": "python",
     "metadata": {},
     "outputs": []
    },
    {
     "cell_type": "code",
     "collapsed": false,
     "input": [
      "H2 = get_hankel_matrix(h2)[:,:]\n",
      "H1 = get_hankel_matrix(h1)[:,:]"
     ],
     "language": "python",
     "metadata": {},
     "outputs": []
    },
    {
     "cell_type": "code",
     "collapsed": false,
     "input": [
      "ev = la.eigvals(H1, H2)\n",
      "print(np.log(ev[np.abs(ev.imag) < 0.1]))"
     ],
     "language": "python",
     "metadata": {},
     "outputs": []
    },
    {
     "cell_type": "code",
     "collapsed": false,
     "input": [
      "la.eigh(la.inv(get_hankel_matrix(h2)), get_hankel_matrix(h1))"
     ],
     "language": "python",
     "metadata": {},
     "outputs": []
    }
   ],
   "metadata": {}
  }
 ]
}
