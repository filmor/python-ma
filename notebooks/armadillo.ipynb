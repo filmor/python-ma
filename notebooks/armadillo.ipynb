{
 "metadata": {
  "name": "armadillo"
 },
 "nbformat": 3,
 "nbformat_minor": 0,
 "worksheets": [
  {
   "cells": [
    {
     "cell_type": "markdown",
     "metadata": {},
     "source": [
      "$\\begin{aligned}\n",
      "&(A - \\lambda B)x = (A - \\lambda L^t L)x = 0 \\\\\n",
      "\\Leftrightarrow& (A L^{-1} - \\lambda L^t) Lx = 0 \\\\\n",
      "\\Leftrightarrow& ((L^t)^{-1}A L^{-1} - \\lambda I) Lx = 0 \\\\\n",
      "\\Leftrightarrow& (A' - \\lambda I) b = 0\n",
      "\\end{aligned}$\n",
      "                  \n",
      "$A' := (L^t)^{-1} A L^{-1}$"
     ]
    },
    {
     "cell_type": "code",
     "collapsed": false,
     "input": [
      "# Load Bitey and Armadillo\n",
      "%load_ext biteymagic\n",
      "import bitey\n",
      "bitey.load_library(\"/usr/lib/libarmadillo.so\")"
     ],
     "language": "python",
     "metadata": {},
     "outputs": [
      {
       "output_type": "pyout",
       "prompt_number": 1,
       "text": [
        "<CDLL '/usr/lib/libarmadillo.so', handle 485e470 at 4445b90>"
       ]
      }
     ],
     "prompt_number": 1
    },
    {
     "cell_type": "code",
     "collapsed": false,
     "input": [
      "# Redirect the real stdout and stderr to this process\n",
      "import os, sys, select\n",
      "\n",
      "# the pipe would fail for some reason if I didn't write to stdout at some point\n",
      "# so I write a space, then backspace (will show as empty in a normal terminal)\n",
      "sys.stdout.write(' \\b')\n",
      "pipe_out, pipe_in = os.pipe()\n",
      "# save a copy of stdout\n",
      "stdout = os.dup(1)\n",
      "# replace stdout with our write pipe\n",
      "os.dup2(pipe_in, 1)\n",
      "\n",
      "# check if we have more to read from the pipe\n",
      "def more_data():\n",
      "    r, _, _ = select.select([pipe_out], [], [], 0)\n",
      "    return bool(r)\n",
      "\n",
      "# read the whole pipe\n",
      "def read_pipe():\n",
      "    out = ''\n",
      "    while more_data():\n",
      "        out += os.read(pipe_out, 1024).decode(\"utf-8\")\n",
      "    return out\n"
     ],
     "language": "python",
     "metadata": {},
     "outputs": [
      {
       "output_type": "stream",
       "stream": "stdout",
       "text": [
        " \b"
       ]
      }
     ],
     "prompt_number": 2
    },
    {
     "cell_type": "code",
     "collapsed": false,
     "input": [
      "%%bitey -x c++ -std=c++11 -Wall\n",
      "#include <armadillo>\n",
      "#include <iostream>\n",
      "extern \"C\" double test(const char* str1, const char* str2)\n",
      "{\n",
      "    using namespace arma;\n",
      "    try\n",
      "    {\n",
      "        mat A (str1);\n",
      "        mat B (str2);\n",
      "        std::cout << A << '\\n' << B;\n",
      "        mat L = chol(B);\n",
      "        //\n",
      "        mat A_prime = L.t().i() * A * L.i();\n",
      "        //\n",
      "        mat eigvec;\n",
      "        vec eigval;\n",
      "        //\n",
      "        eig_sym(eigval, eigvec, A_prime);\n",
      "        //\n",
      "        std::cout << '\\n' << eigvec;\n",
      "        return eigval[1];\n",
      "    }\n",
      "    catch (...)\n",
      "    {\n",
      "        std::cout << \"Caught something\" << std::endl;\n",
      "        return -1337;\n",
      "    }\n",
      "}"
     ],
     "language": "python",
     "metadata": {},
     "outputs": [],
     "prompt_number": 3
    },
    {
     "cell_type": "code",
     "collapsed": false,
     "input": [
      "%time test(b\"2 0; 0 1\", b\"1 1; 0 2\")"
     ],
     "language": "python",
     "metadata": {},
     "outputs": [
      {
       "output_type": "stream",
       "stream": "stdout",
       "text": [
        "CPU times: user 0 ns, sys: 0 ns, total: 0 ns\n",
        "Wall time: 150 \u00b5s\n"
       ]
      },
      {
       "output_type": "pyout",
       "prompt_number": 6,
       "text": [
        "4.561552812808831"
       ]
      }
     ],
     "prompt_number": 6
    },
    {
     "cell_type": "code",
     "collapsed": false,
     "input": [
      "print(read_pipe())"
     ],
     "language": "python",
     "metadata": {},
     "outputs": [
      {
       "output_type": "stream",
       "stream": "stdout",
       "text": [
        "   2.0000        0\n",
        "        0   1.0000\n",
        "\n",
        "   1.0000   1.0000\n",
        "        0   2.0000\n",
        "\n",
        "  -0.7882  -0.6154\n",
        "  -0.6154   0.7882\n",
        "   2.0000        0\n",
        "        0   1.0000\n",
        "\n",
        "   1.0000   1.0000\n",
        "        0   2.0000\n",
        "\n",
        "  -0.7882  -0.6154\n",
        "  -0.6154   0.7882\n",
        "   2.0000        0\n",
        "        0   1.0000\n",
        "\n",
        "   1.0000   1.0000\n",
        "        0   2.0000\n",
        "\n",
        "  -0.7882  -0.6154\n",
        "  -0.6154   0.7882\n",
        "\n"
       ]
      }
     ],
     "prompt_number": 7
    },
    {
     "cell_type": "code",
     "collapsed": false,
     "input": [],
     "language": "python",
     "metadata": {},
     "outputs": []
    }
   ],
   "metadata": {}
  }
 ]
}