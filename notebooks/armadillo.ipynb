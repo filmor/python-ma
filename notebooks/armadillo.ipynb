{
 "metadata": {
  "name": "armadillo"
 },
 "nbformat": 3,
 "nbformat_minor": 0,
 "worksheets": [
  {
   "cells": [
    {
     "cell_type": "markdown",
     "metadata": {},
     "source": [
      "$\\begin{aligned}\n",
      "&(A - \\lambda B)x = (A - \\lambda L^t L)x = 0 \\\\\n",
      "\\Leftrightarrow& (A L^{-1} - \\lambda L^t) Lx = 0 \\\\\n",
      "\\Leftrightarrow& ((L^t)^{-1}A L^{-1} - \\lambda I) Lx = 0 \\\\\n",
      "\\Leftrightarrow& (A' - \\lambda I) b = 0\n",
      "\\end{aligned}$\n",
      "                  \n",
      "$A' := (L^t)^{-1} A L^{-1}$"
     ]
    },
    {
     "cell_type": "code",
     "collapsed": false,
     "input": [
      "# Load Bitey and Armadillo\n",
      "%load_ext biteymagic\n",
      "import bitey\n",
      "bitey.load_library(\"/usr/lib/libarmadillo.so\")"
     ],
     "language": "python",
     "metadata": {},
     "outputs": []
    },
    {
     "cell_type": "code",
     "collapsed": false,
     "input": [
      "# Redirect the real stdout and stderr to this process\n",
      "import os, sys, select, signal\n",
      "\n",
      "# the pipe would fail for some reason if I didn't write to stdout at some point\n",
      "# so I write a space, then backspace (will show as empty in a normal terminal)\n",
      "sys.stdout.write(' \\b')\n",
      "pipe_out, pipe_in = os.pipe()\n",
      "# save a copy of stdout\n",
      "stdout = os.dup(1)\n",
      "# replace stdout with our write pipe\n",
      "os.dup2(pipe_in, 1)\n",
      "\n",
      "# check if we have more to read from the pipe\n",
      "def more_data():\n",
      "    r, _, _ = select.select([pipe_out], [], [], 0)\n",
      "    return bool(r)\n",
      "\n",
      "# read the whole pipe\n",
      "def read_pipe():\n",
      "    out = ''\n",
      "    while more_data():\n",
      "        out += os.read(pipe_out, 1024).decode(\"utf-8\")\n",
      "    return out\n",
      "\n",
      "signal.signal(signal.SIGTRAP, read_pipe)"
     ],
     "language": "python",
     "metadata": {},
     "outputs": []
    },
    {
     "cell_type": "code",
     "collapsed": false,
     "input": [
      "%%bitey -x c++ -std=c++11 -Wall\n",
      "#include <armadillo>\n",
      "#include <iostream>\n",
      "#include <cassert>\n",
      "\n",
      "extern \"C\" double test(double* a_data, std::size_t a_size, double* b_data, std::size_t b_size)\n",
      "{\n",
      "    assert(0);\n",
      "    using namespace arma;\n",
      "    try\n",
      "    {\n",
      "        assert(a_size >= 3 * 3);\n",
      "        assert(b_size >= 3 * 3);\n",
      "        mat A (a_data, 3, 3, false);\n",
      "        mat B (b_data, 3, 3, false);\n",
      "        std::cout << A << '\\n' << B;\n",
      "        mat L = chol(B);\n",
      "        \n",
      "        mat A_prime = L.t().i() * A * L.i();\n",
      "        \n",
      "        std::cout << A_prime << '\\n';\n",
      "        \n",
      "        mat eigvec;\n",
      "        vec eigval;\n",
      "        \n",
      "        eig_sym(eigval, eigvec, A_prime);\n",
      "        \n",
      "        std::cout << '\\n' << eigvec;\n",
      "        return eigval[1];\n",
      "    }\n",
      "    catch (...)\n",
      "    {\n",
      "        std::cout << \"Caught something\" << std::endl;\n",
      "        return -1337;\n",
      "    }\n",
      "}"
     ],
     "language": "python",
     "metadata": {},
     "outputs": []
    },
    {
     "cell_type": "code",
     "collapsed": false,
     "input": [
      "import ctypes\n",
      "A = np.array([12,2,1,7,5,6,7,8,9], dtype=np.float64)\n",
      "B = np.array([3,2,1,4,5,4,1,2,3], dtype=np.float64)\n",
      "\n",
      "test(A.ctypes.data_as(ctypes.POINTER(ctypes.c_double)), len(A), B.ctypes.data_as(ctypes.POINTER(ctypes.c_double)), len(B))"
     ],
     "language": "python",
     "metadata": {},
     "outputs": []
    },
    {
     "cell_type": "code",
     "collapsed": false,
     "input": [
      "mod = sys.modules[\"_bitey_magic_5b7749c8f72d4a01e915ee9c9c42cc31\"]"
     ],
     "language": "python",
     "metadata": {},
     "outputs": []
    },
    {
     "cell_type": "code",
     "collapsed": false,
     "input": [
      "print(read_pipe())"
     ],
     "language": "python",
     "metadata": {},
     "outputs": []
    },
    {
     "cell_type": "code",
     "collapsed": false,
     "input": [
      "mod._llvm_engine"
     ],
     "language": "python",
     "metadata": {},
     "outputs": []
    },
    {
     "cell_type": "code",
     "collapsed": false,
     "input": [
      "a = _"
     ],
     "language": "python",
     "metadata": {},
     "outputs": []
    },
    {
     "cell_type": "code",
     "collapsed": false,
     "input": [
      "a."
     ],
     "language": "python",
     "metadata": {},
     "outputs": []
    }
   ],
   "metadata": {}
  }
 ]
}