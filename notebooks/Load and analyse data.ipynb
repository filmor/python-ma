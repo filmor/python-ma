{
 "metadata": {
  "name": ""
 },
 "nbformat": 3,
 "nbformat_minor": 0,
 "worksheets": [
  {
   "cells": [
    {
     "cell_type": "code",
     "collapsed": false,
     "input": [
      "import pandas as pd\n",
      "import tables\n",
      "import numpy as np\n",
      "import math\n",
      "import itertools\n",
      "import pyma.gevp as ge\n",
      "import pyma.simple_algorithms as algo\n",
      "from pyma.esprit import *\n",
      "\n",
      "with tables.open_file(\"../data/base_data.h5\") as t:\n",
      "    data = np.array(t.get_node(\"/input/eta_sym\"))\n",
      "    \n",
      "# Calculate the variance of each matrix by calculating the respective subvariances (i.e. $\\sigma^2$) and then summing for each.\n",
      "data_variance = data[1:].var(axis=0).sum(axis=(1, 2))\n",
      "\n",
      "# Estimate the error of each matrix pencil using the errors (in norm) of the involved matrices.\n",
      "matrix_errors = [np.sqrt(data_variance[i] + data_variance[i+1:]) for i in range(len(data_variance))]"
     ],
     "language": "python",
     "metadata": {},
     "outputs": []
    },
    {
     "cell_type": "markdown",
     "metadata": {},
     "source": [
      "Zum Fehler: Wir plotten als \"Masse\" $E = \\log\\frac\\lambda{\\lambda'}$ ($\\lambda'$ ist $t\\mapsto t+1$ gegen\u00fcber $\\lambda$), "
     ]
    },
    {
     "cell_type": "code",
     "collapsed": false,
     "input": [
      "def calc_masses(arr):\n",
      "    try:\n",
      "        return ((arr.shift(-1) + arr.shift(1)) / arr).apply(math.acosh)\n",
      "    except:\n",
      "        return None\n",
      "\n",
      "def mass_plot(data, t_0, ev, errors, index_of_mean=0, ax=None):\n",
      "    ax = plt.gca() if ax is None else ax\n",
      "    yerr = errors[ev].ix[t_0]\n",
      "    data = data[ev].ix[0].ix[t_0]\n",
      "    print(data.shape, yerr.shape)\n",
      "\n",
      "    x = data.index\n",
      "    y = calc_masses(data)\n",
      "        \n",
      "    rel_err = yerr / data\n",
      "    \n",
      "    yerr = np.sqrt(rel_err ** 2 + rel_err.shift(-1) ** 2)\n",
      "    \n",
      "    ax.errorbar(x, y, fmt=\".\", yerr=yerr)\n",
      "    ax.set_title(\"Mass plot for eigenvalue %d with t_0 = %d\" % (ev, t_0))\n",
      "    \n",
      "    sum_of_weights = (1 / yerr ** 2).sum()\n",
      "    avg = (y / yerr ** 2).sum() / sum_of_weights\n",
      "    std = (((y - avg) / yerr)**2).sum() / sum_of_weights\n",
      "    plot(pd.Series(avg, x))\n",
      "    plot(pd.Series(avg + std, x))\n",
      "    plot(pd.Series(avg - std, x))\n",
      "    \n",
      "    precision = str(int(ceil(-math.log10(std))))\n",
      "    print((\"'Fit': %.\" + precision + \"f +- %.\" + precision + \"f\") % (avg, std))\n",
      "    \n",
      "def calculate_and_plot(algorithm, data):\n",
      "    # For now, don't sort by vectors at all, choose qz_solver\n",
      "    ev, t_0 = 1, 2\n",
      "    \n",
      "    gevs = pd.concat((ge.calculate_gevp(d, algorithm) for d in data), keys=itertools.count())\n",
      "    errors = gevs[1:].std(level=[1,2])\n",
      "    #mass_plot(gevs.ix[0], t_0=2, ev=4, errors=errors)\n",
      "    return gevs, errors\n"
     ],
     "language": "python",
     "metadata": {
      "id": "mass_plot"
     },
     "outputs": []
    },
    {
     "cell_type": "code",
     "collapsed": false,
     "input": [
      "def draw_matrix(m):\n",
      "    plt.figure()\n",
      "    plt.gca().invert_yaxis()\n",
      "    pcolor(m)\n",
      "    \n",
      "def truncate(a, n):\n",
      "    z = np.zeros_like(a)\n",
      "    z[:n] = a[:n]\n",
      "    return z\n",
      "\n",
      "def truncated_svd(m, n):\n",
      "    u, s, v_t = la.svd(np.matrix(m))\n",
      "    return np.dot(np.dot(u[:n], np.diagflat(truncate(s, n))), v_t[:,:n])\n",
      "\n",
      "def truncated_algo(B, A):\n",
      "    return algo.cholesky_solver(truncated_svd(B, 4), truncated_svd(A, 4))"
     ],
     "language": "python",
     "metadata": {},
     "outputs": []
    },
    {
     "cell_type": "code",
     "collapsed": false,
     "input": [
      "def simple_fix_heiberger(A, B, eps=1e-8):\n",
      "    # TODO: Fehler relativ zu V(0)\n",
      "    V, E = la.eigh(B)\n",
      "    \n",
      "    # Set all elements of the diagonal less than eps to 0 (note that we intentionally also reset all negative values)\n",
      "    empty = V > eps\n",
      "    \n",
      "    D = np.matrix(np.diag(V[empty]))\n",
      "    Q = np.matrix(E[empty])\n",
      "    \n",
      "    A_0 = Q * A * Q.T\n",
      "    B_0 = Q * B * Q.T\n",
      "    \n",
      "    R = np.matrix(np.diag(np.diag(D) ** (-0.5)))\n",
      "    A_1 = R.T * A_0 * R\n",
      "    B_1 = R.T * B_0 * R\n",
      "    \n",
      "    return la.eigh(A_1)\n"
     ],
     "language": "python",
     "metadata": {},
     "outputs": []
    },
    {
     "cell_type": "code",
     "collapsed": false,
     "input": [
      "import oct2py\n",
      "oc = oct2py.Oct2Py()\n",
      "oc.addpath(\"../external\")\n",
      "-oc.eigifp(-A, B, 2)\n",
      "\n",
      "def eigifp(A, B):\n",
      "    return (-oc.eigifp(-A, B, 2), 0)\n",
      "\n",
      "def regeig(A, B):\n",
      "    ev, ew = oc.call(\"regeig\", -A, B, nout=2)\n",
      "    return -ev.transpose()[0], ew"
     ],
     "language": "python",
     "metadata": {},
     "outputs": []
    },
    {
     "cell_type": "code",
     "collapsed": false,
     "input": [
      "gevs_re, errors_re = calculate_and_plot(simple_fix_heiberger, data)"
     ],
     "language": "python",
     "metadata": {},
     "outputs": []
    },
    {
     "cell_type": "code",
     "collapsed": false,
     "input": [
      "gevs, errors = calculate_and_plot(algo.cholesky_solver, data)"
     ],
     "language": "python",
     "metadata": {},
     "outputs": []
    },
    {
     "cell_type": "code",
     "collapsed": false,
     "input": [
      "masses = gevs_re[1].groupby(level=[0, 1], group_keys=False).apply(calc_masses).reorder_levels([1,2,0])\n",
      "masses2 = gevs[1].groupby(level=[0, 1], group_keys=False).apply(calc_masses).reorder_levels([1,2,0])"
     ],
     "language": "python",
     "metadata": {},
     "outputs": []
    },
    {
     "cell_type": "code",
     "collapsed": false,
     "input": [
      "masses2.ix[4].ix[5].hist(bins=50, normed=True)\n",
      "masses.ix[4].ix[5].hist(bins=50, normed=True)"
     ],
     "language": "python",
     "metadata": {},
     "outputs": []
    },
    {
     "cell_type": "code",
     "collapsed": false,
     "input": [
      "def get_median_and_errors(series):\n",
      "    p = 0.683\n",
      "    lower = series.quantile(1 - p)\n",
      "    upper = series.quantile(p)\n",
      "    return upper, series.quantile(0.5), lower, (upper - lower) / 2"
     ],
     "language": "python",
     "metadata": {},
     "outputs": []
    },
    {
     "cell_type": "code",
     "collapsed": false,
     "input": [
      "get_median_and_errors(masses), get_median_and_errors(masses2)"
     ],
     "language": "python",
     "metadata": {},
     "outputs": []
    },
    {
     "cell_type": "code",
     "collapsed": false,
     "input": [
      "ylim((0, 5))\n",
      "#xlim((-1, 15))\n",
      "mass_plot(gevs_re, ev=1, t_0=2, errors=errors_re)\n",
      "figure()\n",
      "# yscale(\"log\")\n",
      "plot(gevs_re.ix[0].ix[3])\n",
      "figure()\n",
      "# yscale(\"log\")\n",
      "plot(gevs.ix[0].ix[3])"
     ],
     "language": "python",
     "metadata": {},
     "outputs": []
    }
   ],
   "metadata": {}
  }
 ]
}
