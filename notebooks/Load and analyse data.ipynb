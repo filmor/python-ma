{
 "metadata": {
  "name": ""
 },
 "nbformat": 3,
 "nbformat_minor": 0,
 "worksheets": [
  {
   "cells": [
    {
     "cell_type": "code",
     "collapsed": false,
     "input": [
      "import pandas as pd\n",
      "import tables\n",
      "import numpy as np\n",
      "import itertools\n",
      "from pyma.gevp import calculate_gevp\n",
      "import pyma.simple_algorithms as algo\n",
      "from pyma.slopes import *"
     ],
     "language": "python",
     "metadata": {},
     "outputs": []
    },
    {
     "cell_type": "code",
     "collapsed": false,
     "input": [
      "with tables.open_file(\"../data/base_data.h5\") as t:\n",
      "    data = np.array(t.get_node(\"/input/eta_sym\"))"
     ],
     "language": "python",
     "metadata": {},
     "outputs": []
    },
    {
     "cell_type": "markdown",
     "metadata": {},
     "source": [
      "Calculate the variance of each matrix by calculating the respective subvariances (i.e. $\\sigma^2$) and then summing for each."
     ]
    },
    {
     "cell_type": "code",
     "collapsed": false,
     "input": [
      "data_variance = data[1:].var(axis=0).sum(axis=(1, 2))"
     ],
     "language": "python",
     "metadata": {},
     "outputs": []
    },
    {
     "cell_type": "markdown",
     "metadata": {},
     "source": [
      "Estimate the error of each matrix pencil using the errors (in norm) of the involved matrices."
     ]
    },
    {
     "cell_type": "code",
     "collapsed": false,
     "input": [
      "matrix_errors = [np.sqrt(data_variance[i] + data_variance[i+1:]) for i in range(len(data_variance))]"
     ],
     "language": "python",
     "metadata": {},
     "outputs": []
    },
    {
     "cell_type": "code",
     "collapsed": false,
     "input": [
      "from imp import reload\n",
      "reload(algo)\n",
      "from itertools import count\n",
      "\n",
      "default_algorithm = algo.qz_solver\n",
      "\n",
      "# For now, don't sort by vectors at all, choose qz_solver\n",
      "def do_calculate_gevp(d, algorithm=default_algorithm):\n",
      "    return calculate_gevp(d, algorithm=algorithm, sort_by_vectors=32)\n",
      "\n",
      "def calc(data, **kwargs):\n",
      "    return pd.concat((do_calculate_gevp(d, **kwargs) for d in data), keys=itertools.count())"
     ],
     "language": "python",
     "metadata": {},
     "outputs": []
    },
    {
     "cell_type": "markdown",
     "metadata": {},
     "source": [
      "initial_data_scipy = get_initial_data(data, algorithm=algo.scipy_solver)\n",
      "np.log(initial_data_scipy).ix[(0, 1)].plot(title=\"Scipy\")\n",
      "\n",
      "initial_data_chol = get_initial_data(data, algorithm=algo.cholesky_solver)\n",
      "np.log(initial_data_chol).ix[(0, 1)].plot(title=\"Cholesky\")\n",
      "\n",
      "initial_data_qz = get_initial_data(data, algorithm=algo.qz_solver)\n",
      "np.log(initial_data_qz).ix[(0, 1)].plot(title=\"QZ\")"
     ]
    },
    {
     "cell_type": "markdown",
     "metadata": {},
     "source": [
      "**TODO:** Here we need to calculate the covariances of the results of `calculate_gevp(d)` with respect to the time (level 1), i.e. we get a covariance matrix for each eigenvalue and each $t_0$, with the respective series being the value for a specific time for all runs."
     ]
    },
    {
     "cell_type": "code",
     "collapsed": false,
     "input": [
      "import scipy.linalg as la"
     ],
     "language": "python",
     "metadata": {},
     "outputs": []
    },
    {
     "cell_type": "code",
     "collapsed": false,
     "input": [
      "def draw_matrix(m):\n",
      "    plt.figure()\n",
      "    plt.gca().invert_yaxis()\n",
      "    pcolor(m)"
     ],
     "language": "python",
     "metadata": {},
     "outputs": []
    },
    {
     "cell_type": "code",
     "collapsed": false,
     "input": [
      "def truncate(a, n):\n",
      "    z = np.zeros_like(a)\n",
      "    z[:n] = a[:n]\n",
      "    return z"
     ],
     "language": "python",
     "metadata": {},
     "outputs": []
    },
    {
     "cell_type": "code",
     "collapsed": false,
     "input": [
      "def truncated_svd(m, n):\n",
      "    u, s, v_t = la.svd(np.matrix(m))\n",
      "    return np.dot(np.dot(u[:n], np.diagflat(truncate(s, n))), v_t[:,:n])"
     ],
     "language": "python",
     "metadata": {},
     "outputs": []
    },
    {
     "cell_type": "code",
     "collapsed": false,
     "input": [
      "def truncated_algo(B, A):\n",
      "    return algo.cholesky_solver(truncated_svd(B, 4), truncated_svd(A, 4))"
     ],
     "language": "python",
     "metadata": {},
     "outputs": []
    },
    {
     "cell_type": "code",
     "collapsed": false,
     "input": [
      "truncated_algo(data[1][1], data[1][10])"
     ],
     "language": "python",
     "metadata": {},
     "outputs": []
    },
    {
     "cell_type": "code",
     "collapsed": false,
     "input": [
      "algorithm = truncated_algo\n",
      "\n",
      "gevs = calc(data[:100], algorithm=algorithm)\n",
      "errors = gevs[1:].std(level=[1,2])"
     ],
     "language": "python",
     "metadata": {
      "id": "calculate",
      "params": {
       "algorithm": "algo.cholesky_solver"
      }
     },
     "outputs": []
    },
    {
     "cell_type": "markdown",
     "metadata": {},
     "source": [
      "Zum Fehler: Wir plotten als \"Masse\" $E = \\log\\frac\\lambda{\\lambda'}$ ($\\lambda'$ ist $t\\mapsto t+1$ gegen\u00fcber $\\lambda$), "
     ]
    },
    {
     "cell_type": "code",
     "collapsed": false,
     "input": [
      "def mass_plot(data, t_0, ev, error=None, ax=None):\n",
      "    ax = ax or plt.gca()\n",
      "    yerr = error or errors[ev].ix[t_0]\n",
      "    data = data[ev].ix[t_0]\n",
      "\n",
      "    x = data.index\n",
      "    y = np.log(data / data.shift(-1))\n",
      "    \n",
      "    rel_err = yerr / data\n",
      "    \n",
      "    yerr = 0.05 * np.sqrt(rel_err ** 2 + rel_err.shift(-1) ** 2)\n",
      "    \n",
      "    ax.errorbar(x, y, fmt=\".\", yerr=yerr)\n",
      "    ax.set_title(\"Mass plot for eigenvalue %d with t_0 = %d\" % (ev, t_0))\n",
      "    \n",
      "    print(np.average(y.dropna(), weights=1 / yerr.dropna() ** 2))\n",
      "    print(np.average(y.dropna() ** 2, weights=1 / yerr.dropna() ** 2))\n",
      "\n",
      "mass_plot(gevs.ix[0], t_0=2, ev=2)"
     ],
     "language": "python",
     "metadata": {
      "id": "mass_plot"
     },
     "outputs": []
    },
    {
     "cell_type": "code",
     "collapsed": false,
     "input": [
      "import imp\n",
      "import pyma.slopes\n",
      "imp.reload(pyma.slopes)\n",
      "from pyma.slopes import *"
     ],
     "language": "python",
     "metadata": {},
     "outputs": []
    },
    {
     "cell_type": "code",
     "collapsed": false,
     "input": [
      "ev, t_0 = 1, 2\n",
      "data_i = initial_data[ev].ix[(0, t_0)]\n",
      "err = errors[ev].ix[t_0]\n",
      "get_slope_exp_fit_2(data_i, error=err, range=slice(1,10,None))\n",
      "# plot(np.log(data_i))\n",
      "#plot(np.log(p[0] * np.exp(-p[1] * data_i.index)))\n",
      "#print(\"%.3f \u00b1 %.3f\" % (p[1], np.sqrt(c[1][1])))"
     ],
     "language": "python",
     "metadata": {},
     "outputs": []
    },
    {
     "cell_type": "code",
     "collapsed": false,
     "input": [
      "from pyma.slopes import get_slope_exp_fit as get_slope\n",
      "\n",
      "def get_slopes(samples, errors):\n",
      "    for (run, t_0), df in samples.groupby(level=[0, 1]):\n",
      "        if t_0 > 5:\n",
      "            continue\n",
      "        \n",
      "        df = df.reset_index(level=[0, 1], drop=True)\n",
      "        \n",
      "        for ev in df:\n",
      "            try:\n",
      "                # TODO: Use errors!\n",
      "                val, err, chi2 = get_slope(df[ev], errors[ev].ix[t_0])\n",
      "                yield dict(run=run, t_0=t_0, eigenvalue=ev, value=val[1], variance=err[1][1], chi2=chi2)\n",
      "            except RuntimeError:\n",
      "                pass\n",
      "            except TypeError:\n",
      "                pass"
     ],
     "language": "python",
     "metadata": {},
     "outputs": []
    },
    {
     "cell_type": "code",
     "collapsed": false,
     "input": [
      "%%time\n",
      "res = pd.DataFrame(list(get_slopes(other_gevs, errors)))"
     ],
     "language": "python",
     "metadata": {},
     "outputs": []
    },
    {
     "cell_type": "code",
     "collapsed": false,
     "input": [
      "standard_deviations = res.pivot_table(rows=\"t_0\", cols=\"eigenvalue\", values=\"value\", aggfunc=\"std\")"
     ],
     "language": "python",
     "metadata": {},
     "outputs": []
    },
    {
     "cell_type": "code",
     "collapsed": false,
     "input": [
      "mean = pd.DataFrame(list(get_slopes(initial_data, errors))).pivot_table(rows=\"t_0\", cols=\"eigenvalue\", values=\"value\", aggfunc=\"mean\")"
     ],
     "language": "python",
     "metadata": {},
     "outputs": []
    },
    {
     "cell_type": "code",
     "collapsed": false,
     "input": [
      "result = mean.join(standard_deviations, rsuffix=\"_std\")"
     ],
     "language": "python",
     "metadata": {},
     "outputs": []
    },
    {
     "cell_type": "code",
     "collapsed": false,
     "input": [
      "for ev in mean:\n",
      "    print(\"Eigenvalue %i\" % ev)\n",
      "    for t_0 in mean.index:\n",
      "        if t_0 != 0:\n",
      "            print(\"  %i   %.3f \u00b1 %.3f\" % (t_0, mean[ev].ix[t_0], standard_deviations[ev].ix[t_0]))\n",
      "    print()"
     ],
     "language": "python",
     "metadata": {},
     "outputs": []
    },
    {
     "cell_type": "code",
     "collapsed": false,
     "input": [],
     "language": "python",
     "metadata": {},
     "outputs": []
    }
   ],
   "metadata": {}
  }
 ]
}
