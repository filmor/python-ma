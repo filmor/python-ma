{
 "metadata": {
  "name": ""
 },
 "nbformat": 3,
 "nbformat_minor": 0,
 "worksheets": [
  {
   "cells": [
    {
     "cell_type": "code",
     "collapsed": false,
     "input": [
      "import pandas as pd\n",
      "import tables\n",
      "import numpy as np\n",
      "import itertools\n",
      "from pyma.gevp import calculate_gevp\n",
      "import pyma.simple_algorithms as algo\n",
      "from pyma.slopes import *"
     ],
     "language": "python",
     "metadata": {},
     "outputs": []
    },
    {
     "cell_type": "code",
     "collapsed": false,
     "input": [
      "with tables.open_file(\"../data/base_data.h5\") as t:\n",
      "    data = np.array(t.get_node(\"/input/eta\"))"
     ],
     "language": "python",
     "metadata": {},
     "outputs": []
    },
    {
     "cell_type": "markdown",
     "metadata": {},
     "source": [
      "Calculate the variance of each matrix by calculating the respective subvariances (i.e. $\\sigma^2$) and then summing for each."
     ]
    },
    {
     "cell_type": "code",
     "collapsed": false,
     "input": [
      "data_variance = data[1:].var(axis=0).sum(axis=(1, 2))"
     ],
     "language": "python",
     "metadata": {},
     "outputs": []
    },
    {
     "cell_type": "code",
     "collapsed": false,
     "input": [
      "matrix_errors = [np.sqrt(data_variance[i] + data_variance[i:]) for i in range(len(data_variance))]"
     ],
     "language": "python",
     "metadata": {},
     "outputs": []
    },
    {
     "cell_type": "code",
     "collapsed": false,
     "input": [
      "from imp import reload\n",
      "reload(algo)\n",
      "from itertools import count\n",
      "\n",
      "default_algorithm = algo.qz_solver\n",
      "\n",
      "# For now, don't sort by vectors at all, choose qz_solver\n",
      "def do_calculate_gevp(d, algorithm=default_algorithm):\n",
      "    return calculate_gevp(d, algorithm=algorithm, sort_by_vectors=32)\n",
      "\n",
      "def get_initial_data(data, **kwargs):\n",
      "    return pd.concat([do_calculate_gevp(data[0], **kwargs)], keys=[0])\n",
      "\n",
      "def get_bootstrap_data(data, **kwargs):\n",
      "    return pd.concat((do_calculate_gevp(d, **kwargs) for d in data[1:]), keys=itertools.count())"
     ],
     "language": "python",
     "metadata": {},
     "outputs": []
    },
    {
     "cell_type": "markdown",
     "metadata": {},
     "source": [
      "initial_data_scipy = get_initial_data(data, algorithm=algo.scipy_solver)\n",
      "np.log(initial_data_scipy).ix[(0, 1)].plot(title=\"Scipy\")\n",
      "\n",
      "initial_data_chol = get_initial_data(data, algorithm=algo.cholesky_solver)\n",
      "np.log(initial_data_chol).ix[(0, 1)].plot(title=\"Cholesky\")\n",
      "\n",
      "initial_data_qz = get_initial_data(data, algorithm=algo.qz_solver)\n",
      "np.log(initial_data_qz).ix[(0, 1)].plot(title=\"QZ\")"
     ]
    },
    {
     "cell_type": "markdown",
     "metadata": {},
     "source": [
      "**TODO:** Here we need to calculate the covariances of the results of `calculate_gevp(d)` with respect to the time (level 1), i.e. we get a covariance matrix for each eigenvalue and each $t_0$, with the respective series being the value for a specific time for all runs."
     ]
    },
    {
     "cell_type": "code",
     "collapsed": false,
     "input": [
      "algorithm = algo.cholesky_solver\n",
      "\n",
      "initial_data = get_initial_data(data, algorithm=algorithm)\n",
      "other_gevs = get_bootstrap_data(data, algorithm=algorithm)\n",
      "errors = other_gevs.std(level=[1, 2])"
     ],
     "language": "python",
     "metadata": {},
     "outputs": []
    },
    {
     "cell_type": "code",
     "collapsed": false,
     "input": [
      "t_0 = 2 # t_0\n",
      "ev = 4\n",
      "\n",
      "plt.errorbar(initial_data[ev].ix[(0, t_0)].index, initial_data[ev].ix[(0, t_0)], yerr=errors[ev].ix[t_0])"
     ],
     "language": "python",
     "metadata": {},
     "outputs": []
    },
    {
     "cell_type": "code",
     "collapsed": false,
     "input": [
      "import imp\n",
      "import pyma.slopes\n",
      "imp.reload(pyma.slopes)\n",
      "from pyma.slopes import *"
     ],
     "language": "python",
     "metadata": {},
     "outputs": []
    },
    {
     "cell_type": "code",
     "collapsed": false,
     "input": [
      "ev, t_0 = 4, 2\n",
      "data_i = initial_data[ev].ix[(0, t_0)]\n",
      "err = errors[ev].ix[t_0]\n",
      "get_slope_exp_fit_2(data_i, error=err, range=slice(1,10,None))\n",
      "# plot(np.log(data_i))\n",
      "#plot(np.log(p[0] * np.exp(-p[1] * data_i.index)))\n",
      "#print(\"%.3f \u00b1 %.3f\" % (p[1], np.sqrt(c[1][1])))"
     ],
     "language": "python",
     "metadata": {},
     "outputs": []
    },
    {
     "cell_type": "code",
     "collapsed": false,
     "input": [
      "from pyma.slopes import get_slope_exp_fit as get_slope\n",
      "\n",
      "def get_slopes(samples, errors):\n",
      "    for (run, t_0), df in samples.groupby(level=[0, 1]):\n",
      "        if t_0 > 5:\n",
      "            continue\n",
      "        \n",
      "        df = df.reset_index(level=[0, 1], drop=True)\n",
      "        \n",
      "        for ev in df:\n",
      "            try:\n",
      "                # TODO: Use errors!\n",
      "                val, err, chi2 = get_slope(df[ev], errors[ev].ix[t_0])\n",
      "                yield dict(run=run, t_0=t_0, eigenvalue=ev, value=val[1], variance=err[1][1], chi2=chi2)\n",
      "            except RuntimeError:\n",
      "                pass\n",
      "            except TypeError:\n",
      "                pass"
     ],
     "language": "python",
     "metadata": {},
     "outputs": []
    },
    {
     "cell_type": "code",
     "collapsed": false,
     "input": [
      "%%time\n",
      "res = pd.DataFrame(list(get_slopes(other_gevs, errors)))"
     ],
     "language": "python",
     "metadata": {},
     "outputs": []
    },
    {
     "cell_type": "code",
     "collapsed": false,
     "input": [
      "standard_deviations = res.pivot_table(rows=\"t_0\", cols=\"eigenvalue\", values=\"value\", aggfunc=\"std\")"
     ],
     "language": "python",
     "metadata": {},
     "outputs": []
    },
    {
     "cell_type": "code",
     "collapsed": false,
     "input": [
      "mean = pd.DataFrame(list(get_slopes(initial_data, errors))).pivot_table(rows=\"t_0\", cols=\"eigenvalue\", values=\"value\", aggfunc=\"mean\")"
     ],
     "language": "python",
     "metadata": {},
     "outputs": []
    },
    {
     "cell_type": "code",
     "collapsed": false,
     "input": [
      "result = mean.join(standard_deviations, rsuffix=\"_std\")"
     ],
     "language": "python",
     "metadata": {},
     "outputs": []
    },
    {
     "cell_type": "code",
     "collapsed": false,
     "input": [
      "for ev in mean:\n",
      "    print(\"Eigenvalue %i\" % ev)\n",
      "    for t_0 in mean.index:\n",
      "        if t_0 != 0:\n",
      "            print(\"  %i   %.3f \u00b1 %.3f\" % (t_0, mean[ev].ix[t_0], standard_deviations[ev].ix[t_0]))\n",
      "    print()"
     ],
     "language": "python",
     "metadata": {},
     "outputs": []
    }
   ],
   "metadata": {}
  }
 ]
}
