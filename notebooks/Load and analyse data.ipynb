{
 "metadata": {
  "name": ""
 },
 "nbformat": 3,
 "nbformat_minor": 0,
 "worksheets": [
  {
   "cells": [
    {
     "cell_type": "code",
     "collapsed": false,
     "input": [
      "import pandas as pd\n",
      "import tables\n",
      "import numpy as np\n",
      "import itertools\n",
      "import pyma.simple_algorithm as algo\n",
      "from pyma.slopes import *"
     ],
     "language": "python",
     "metadata": {},
     "outputs": []
    },
    {
     "cell_type": "code",
     "collapsed": false,
     "input": [
      "with tables.open_file(\"../data/base_data.h5\") as t:\n",
      "    data = np.array(t.get_node(\"/input/eta\"))"
     ],
     "language": "python",
     "metadata": {},
     "outputs": []
    },
    {
     "cell_type": "markdown",
     "metadata": {},
     "source": [
      "Calculate the variance of each matrix by calculating the respective subvariances (i.e. $\\sigma^2$) and then summing for each."
     ]
    },
    {
     "cell_type": "code",
     "collapsed": false,
     "input": [
      "data_variance = data[1:].var(axis=0).sum(axis=(1, 2))"
     ],
     "language": "python",
     "metadata": {},
     "outputs": []
    },
    {
     "cell_type": "code",
     "collapsed": false,
     "input": [
      "matrix_errors = [np.sqrt(data_variance[i] + data_variance[i:]) for i in range(len(data_variance))]"
     ],
     "language": "python",
     "metadata": {},
     "outputs": []
    },
    {
     "cell_type": "code",
     "collapsed": false,
     "input": [
      "from imp import reload\n",
      "reload(algo)\n",
      "\n",
      "initial_data = pd.concat([algo.calculate_gevp(data[0])], keys=itertools.count())"
     ],
     "language": "python",
     "metadata": {},
     "outputs": []
    },
    {
     "cell_type": "code",
     "collapsed": false,
     "input": [
      "np.log(initial_data).ix[(0, 1)].plot()"
     ],
     "language": "python",
     "metadata": {},
     "outputs": []
    },
    {
     "cell_type": "markdown",
     "metadata": {},
     "source": [
      "**TODO:** Here we need to calculate the covariances of the results of `calculate_gevp(d)` with respect to the time (level 1), i.e. we get a covariance matrix for each eigenvalue and each $t_0$, with the respective series being the value for a specific time for all runs."
     ]
    },
    {
     "cell_type": "code",
     "collapsed": false,
     "input": [
      "other_gevs = pd.concat((algo.calculate_gevp(d) for d in data[1:]), keys=itertools.count())\n",
      "errors = other_gevs.std(level=[1, 2])"
     ],
     "language": "python",
     "metadata": {},
     "outputs": []
    },
    {
     "cell_type": "code",
     "collapsed": false,
     "input": [
      "t_0 = 2 # t_0\n",
      "ev = 5\n",
      "\n",
      "plt.errorbar(initial_data[ev].ix[(0, t_0)].index, initial_data[ev].ix[(0, t_0)], yerr=errors[ev].ix[t_0])"
     ],
     "language": "python",
     "metadata": {},
     "outputs": []
    },
    {
     "cell_type": "code",
     "collapsed": false,
     "input": [
      "ev, t_0 = 4, 5\n",
      "(1 / errors[ev].ix[t_0]**2).plot(style=\"x\")\n",
      "plt.figure()\n",
      "np.log(initial_data[ev].ix[(0, t_0)]).plot(style=\"x\")"
     ],
     "language": "python",
     "metadata": {},
     "outputs": []
    },
    {
     "cell_type": "code",
     "collapsed": false,
     "input": [
      "ev, t_0 = 3, 2\n",
      "data_i = initial_data[ev].ix[(0, t_0)]\n",
      "err = errors[ev].ix[t_0]\n",
      "p, c = get_slope_exp_fit(data_i, error=err, range=slice(1,10,None))\n",
      "plot(data_i)\n",
      "plot((p[0] * np.exp(-p[1] * data_i.index)))\n",
      "print(\"%.3f \u00b1 %.3f\" % (p[1], np.sqrt(c[1][1])))"
     ],
     "language": "python",
     "metadata": {},
     "outputs": []
    },
    {
     "cell_type": "code",
     "collapsed": false,
     "input": [
      "#from pyma.slopes import get_slope_exp_fit as get_slope\n",
      "\n",
      "def get_slopes(samples):\n",
      "    for (run, t_0), df in samples.groupby(level=[0, 1]):\n",
      "        df = df.reset_index(level=[0, 1], drop=True)\n",
      "        \n",
      "        for ev in df:\n",
      "            try:\n",
      "                val, err = get_slope(df[ev]) # df[(ev, \"mean\")], df[(ev, \"std\")])\n",
      "                yield dict(run=run, t_0=t_0, eigenvalue=ev, value=val[1], variance=err[1][1])\n",
      "            except RuntimeError:\n",
      "                pass\n",
      "            except TypeError:\n",
      "                pass"
     ],
     "language": "python",
     "metadata": {},
     "outputs": []
    },
    {
     "cell_type": "code",
     "collapsed": false,
     "input": [
      "%%time\n",
      "res = pd.DataFrame(list(get_slopes(other_gevs)))"
     ],
     "language": "python",
     "metadata": {},
     "outputs": []
    },
    {
     "cell_type": "code",
     "collapsed": false,
     "input": [
      "standard_deviations = res.pivot_table(rows=\"t_0\", cols=\"eigenvalue\", values=\"value\", aggfunc=\"std\")"
     ],
     "language": "python",
     "metadata": {},
     "outputs": []
    },
    {
     "cell_type": "code",
     "collapsed": false,
     "input": [
      "mean = pd.DataFrame(list(get_slopes(initial_data))).pivot_table(rows=\"t_0\", cols=\"eigenvalue\", values=\"value\", aggfunc=\"mean\")"
     ],
     "language": "python",
     "metadata": {},
     "outputs": []
    },
    {
     "cell_type": "code",
     "collapsed": false,
     "input": [
      "result = mean.join(standard_deviations, rsuffix=\"_std\")"
     ],
     "language": "python",
     "metadata": {},
     "outputs": []
    },
    {
     "cell_type": "code",
     "collapsed": false,
     "input": [
      "from IPython.display import display_html\n",
      "\n",
      "for ev in mean:\n",
      "    print(\"Eigenvalue %i\" % ev)\n",
      "    for t_0 in mean.index:\n",
      "        if t_0 != 0:\n",
      "            print(\"  %i   %.3f \u00b1 %.3f\" % (t_0, mean[ev].ix[t_0], standard_deviations[ev].ix[t_0]))\n",
      "    print()"
     ],
     "language": "python",
     "metadata": {},
     "outputs": []
    },
    {
     "cell_type": "code",
     "collapsed": false,
     "input": [],
     "language": "python",
     "metadata": {},
     "outputs": []
    }
   ],
   "metadata": {}
  }
 ]
}
