{
 "metadata": {
  "name": ""
 },
 "nbformat": 3,
 "nbformat_minor": 0,
 "worksheets": [
  {
   "cells": [
    {
     "cell_type": "code",
     "collapsed": false,
     "input": [
      "import pandas as pd\n",
      "import tables\n",
      "import numpy as np\n",
      "import math\n",
      "import itertools\n",
      "import pyma.gevp as ge\n",
      "import pyma.simple_algorithms as algo\n",
      "from pyma.esprit import *\n",
      "\n",
      "with tables.open_file(\"../data/base_data.h5\") as t:\n",
      "    data = np.array(t.get_node(\"/input/eta_sym\"))\n",
      "    \n",
      "# Calculate the variance of each matrix by calculating the respective subvariances (i.e. $\\sigma^2$) and then summing for each.\n",
      "data_variance = data[1:].var(axis=0).sum(axis=(1, 2))\n",
      "\n",
      "# Estimate the error of each matrix pencil using the errors (in norm) of the involved matrices.\n",
      "matrix_errors = [np.sqrt(data_variance[i] + data_variance[i+1:]) for i in range(len(data_variance))]"
     ],
     "language": "python",
     "metadata": {},
     "outputs": []
    },
    {
     "cell_type": "markdown",
     "metadata": {},
     "source": [
      "Zum Fehler: Wir plotten als \"Masse\" $E = \\log\\frac\\lambda{\\lambda'}$ ($\\lambda'$ ist $t\\mapsto t+1$ gegen\u00fcber $\\lambda$), "
     ]
    },
    {
     "cell_type": "code",
     "collapsed": false,
     "input": [
      "def acosh(x):\n",
      "    try:\n",
      "        return math.acosh(x)\n",
      "    except ValueError:\n",
      "        return None\n",
      "\n",
      "def calc_masses_cosh(arr):\n",
      "    diff = (arr.shift(-1) + arr.shift(1)) / (2 * arr)\n",
      "    return diff.apply(acosh)\n",
      "\n",
      "def calc_masses_exp(arr):\n",
      "    return np.log(arr.shift(1) / arr)\n",
      "\n",
      "def mass_plot(data, t_0, ev, ax=None, calc_masses=calc_masses_cosh):\n",
      "    ax = plt.gca() if ax is None else ax\n",
      "    \n",
      "    masses = data.xs(t_0, level=1)[ev].groupby(level=0, group_keys=False).apply(calc_masses)\n",
      "    \n",
      "    yerr = masses.ix[1:].std(level=1)\n",
      "    y = masses.ix[0]\n",
      "    \n",
      "    x = y.index\n",
      "        \n",
      "    ax.errorbar(x, y, fmt=\".\", yerr=yerr)\n",
      "    \n",
      "    sum_of_weights = (1 / yerr ** 2).sum()\n",
      "    avg = (y / yerr ** 2).sum() / sum_of_weights\n",
      "    std = (((y - avg) / yerr)**2).sum() / sum_of_weights\n",
      "    ax.plot(pd.Series(avg, x))\n",
      "    ax.plot(pd.Series(avg + std, x))\n",
      "    ax.plot(pd.Series(avg - std, x))\n",
      "    \n",
      "    precision = str(int(ceil(-math.log10(std))))\n",
      "    print((\"'Fit': %.\" + precision + \"f +- %.\" + precision + \"f\") % (avg, std))\n",
      "    \n",
      "def calculate_and_plot(algorithm, data):\n",
      "    # For now, don't sort by vectors at all, choose qz_solver\n",
      "    \n",
      "    gevs = pd.concat((ge.calculate_gevp(d, algorithm) for d in data), keys=itertools.count())\n",
      "    #mass_plot(gevs.ix[0], t_0=2, ev=4, errors=errors)\n",
      "    return gevs\n"
     ],
     "language": "python",
     "metadata": {
      "id": "mass_plot"
     },
     "outputs": []
    },
    {
     "cell_type": "code",
     "collapsed": false,
     "input": [
      "def draw_matrix(m):\n",
      "    plt.figure()\n",
      "    plt.gca().invert_yaxis()\n",
      "    pcolor(m)\n",
      "    \n",
      "def truncate(a, n):\n",
      "    z = np.zeros_like(a)\n",
      "    z[:n] = a[:n]\n",
      "    return z\n",
      "\n",
      "def truncated_svd(m, n):\n",
      "    u, s, v_t = la.svd(np.matrix(m))\n",
      "    return np.dot(np.dot(u[:n], np.diagflat(truncate(s, n))), v_t[:,:n])\n",
      "\n",
      "def truncated_algo(B, A):\n",
      "    return algo.cholesky_solver(truncated_svd(B, 4), truncated_svd(A, 4))"
     ],
     "language": "python",
     "metadata": {},
     "outputs": []
    },
    {
     "cell_type": "code",
     "collapsed": false,
     "input": [
      "def simple_fix_heiberger(A, B, eps=1e-12):\n",
      "    # TODO: Fehler relativ zu V(0)\n",
      "    V, E = la.eigh(B)\n",
      "    \n",
      "    # Set all elements of the diagonal less than eps to 0 (note that we intentionally also reset all negative values)\n",
      "    not_empty = V >= eps\n",
      "    # Additionally split of all elements >5\n",
      "    not_empty[4:] = False\n",
      "    \n",
      "    D = np.matrix(np.diag(V[not_empty]))\n",
      "    Q = np.matrix(E[not_empty])\n",
      "    \n",
      "    A_0 = Q * A * Q.T\n",
      "    B_0 = Q * B * Q.T\n",
      "    \n",
      "    R = np.matrix(np.diag(np.diag(D) ** (-0.5)))\n",
      "    A_1 = R.T * A_0 * R\n",
      "    B_1 = R.T * B_0 * R\n",
      "    \n",
      "    try:\n",
      "        return la.eigh(A_1)\n",
      "    except:\n",
      "        pass\n",
      "    "
     ],
     "language": "python",
     "metadata": {},
     "outputs": []
    },
    {
     "cell_type": "code",
     "collapsed": false,
     "input": [
      "gevs_re = calculate_and_plot(simple_fix_heiberger, data)\n",
      "gevs = calculate_and_plot(algo.cholesky_solver, data)"
     ],
     "language": "python",
     "metadata": {},
     "outputs": []
    },
    {
     "cell_type": "code",
     "collapsed": false,
     "input": [
      "gevs[0]"
     ],
     "language": "python",
     "metadata": {},
     "outputs": []
    },
    {
     "cell_type": "markdown",
     "metadata": {},
     "source": [
      "Calculate the values of the mass-curves of eigenvalue 1."
     ]
    },
    {
     "cell_type": "code",
     "collapsed": false,
     "input": [
      "masses = gevs_re[1].groupby(level=[0, 1], group_keys=False).apply(calc_masses_cosh).reorder_levels([1,2,0])\n",
      "masses2 = gevs[1].groupby(level=[0, 1], group_keys=False).apply(calc_masses_cosh).reorder_levels([1,2,0])"
     ],
     "language": "python",
     "metadata": {},
     "outputs": []
    },
    {
     "cell_type": "code",
     "collapsed": false,
     "input": [
      "masses"
     ],
     "language": "python",
     "metadata": {},
     "outputs": []
    },
    {
     "cell_type": "code",
     "collapsed": false,
     "input": [
      "masses2.ix[3].ix[15].hist(bins=50, normed=True)\n",
      "masses.ix[3].ix[15].hist(bins=50, normed=True)"
     ],
     "language": "python",
     "metadata": {},
     "outputs": []
    },
    {
     "cell_type": "code",
     "collapsed": false,
     "input": [
      "def get_median_and_errors(series):\n",
      "    p = 0.683\n",
      "    lower = series.quantile(1 - p)\n",
      "    upper = series.quantile(p)\n",
      "    return upper, series.quantile(0.5), lower, (upper - lower) / 2"
     ],
     "language": "python",
     "metadata": {},
     "outputs": []
    },
    {
     "cell_type": "code",
     "collapsed": false,
     "input": [
      "get_median_and_errors(masses.dropna()), get_median_and_errors(masses2.dropna())"
     ],
     "language": "python",
     "metadata": {},
     "outputs": []
    },
    {
     "cell_type": "code",
     "collapsed": false,
     "input": [
      "errors_re = gevs_re.ix[1:].std(level=[1,2])\n",
      "errors = gevs.ix[1:].std(level=[1,2])"
     ],
     "language": "python",
     "metadata": {},
     "outputs": []
    },
    {
     "cell_type": "code",
     "collapsed": false,
     "input": [
      "sample = 0\n",
      "t_0 = 3\n",
      "evs = [1]\n",
      "\n",
      "# fig, (ax1, ax2) = plt.subplots(nrows=1, ncols=2, figsize=(15, 5))\n",
      "fig, ax1 = plt.subplots(nrows=1, ncols=1, figsize=(10, 5))\n",
      "\n",
      "ax1.grid()\n",
      "def plot_ev(data, errors, ax):\n",
      "    ax.set_ylim((-1, 2))\n",
      "    d = data.ix[sample].ix[t_0]\n",
      "    e = errors.ix[t_0]\n",
      "    \n",
      "    for i in d:\n",
      "        if i in evs:\n",
      "            ax.errorbar(d[i].index, d[i].values, fmt=\".\", yerr=e[i])\n",
      "\n",
      "plot_ev(gevs_re * 0.5, errors_re * 0.5, ax1)\n",
      "plot_ev(gevs, errors, ax1)\n",
      "\n",
      "_ = gevs_re[evs].xs(t_0, level=1).xs(15, level=1).hist(normed=False, bins=50, figsize=(10, 5))\n",
      "_ = gevs[evs].xs(t_0, level=1).xs(15, level=1).hist(normed=False, bins=50, figsize=(10, 5))"
     ],
     "language": "python",
     "metadata": {},
     "outputs": []
    },
    {
     "cell_type": "code",
     "collapsed": false,
     "input": [
      "init = masses.reorder_levels([2, 0, 1]).ix[0]\n",
      "errors = masses.reorder_levels([2, 0, 1]).ix[1:].std(level=[1,2])"
     ],
     "language": "python",
     "metadata": {},
     "outputs": []
    },
    {
     "cell_type": "code",
     "collapsed": false,
     "input": [
      "fig, ((ax1, ax2), (ax3, ax4)) = plt.subplots(nrows=2, ncols=2, figsize=(16, 12))\n",
      "\n",
      "ev, t_0 = 1, 2\n",
      "\n",
      "ax1.set_xlim((0, 10)); ax1.set_ylim((0, 2)); ax1.grid()\n",
      "ax2.set_xlim((0, 10)); ax2.set_ylim((0, 2)); ax2.grid()\n",
      "ax3.set_xlim((0, 10)); ax3.set_ylim((0, 2)); ax3.grid()\n",
      "ax4.set_xlim((0, 10)); ax4.set_ylim((0, 2)); ax4.grid()\n",
      "\n",
      "mass_plot(gevs_re, t_0, ev, ax=ax1, calc_masses=calc_masses_cosh)\n",
      "mass_plot(gevs, t_0, ev, ax=ax2, calc_masses=calc_masses_cosh)\n",
      "mass_plot(gevs_re, t_0, ev, ax=ax3, calc_masses=calc_masses_exp)\n",
      "mass_plot(gevs, t_0, ev, ax=ax4, calc_masses=calc_masses_exp)"
     ],
     "language": "python",
     "metadata": {},
     "outputs": []
    },
    {
     "cell_type": "code",
     "collapsed": false,
     "input": [
      "x = slice(2, 10)\n",
      "\n",
      "masses = gevs.xs(t_0, level=1)[ev].groupby(level=0, group_keys=False).apply(calc_masses_cosh)\n",
      "yerr = masses.ix[1:].std(level=1)\n",
      "y = masses.ix[0]\n",
      "\n",
      "dt = y[x].dropna()\n",
      "dt_err = yerr[dt.index].dropna()"
     ],
     "language": "python",
     "metadata": {},
     "outputs": []
    },
    {
     "cell_type": "code",
     "collapsed": false,
     "input": [
      "from scipy.optimize import curve_fit\n",
      "\n",
      "f = lambda x,a,b,c: a * np.exp(-b * x) + c\n",
      "\n",
      "p, pdiv = curve_fit(f, np.array(dt.index), np.array(dt), p0=(1, 1, 0.5), sigma=np.array(1/dt_err**2), maxfev=10000)\n",
      "p_err, p_errdiv = curve_fit(f, np.array(dt_err.index), np.array(dt_err), p0=(1,-1,1))\n",
      "\n",
      "x = np.linspace(dt.index[0] - 1, dt.index[-1] + 1)\n",
      "gca().plot(x, f(x, *p))\n",
      "gca().errorbar(dt.index, dt, yerr=dt_err, fmt=\".\")\n",
      "p, p_err"
     ],
     "language": "python",
     "metadata": {},
     "outputs": []
    },
    {
     "cell_type": "code",
     "collapsed": false,
     "input": [
      "y"
     ],
     "language": "python",
     "metadata": {},
     "outputs": []
    },
    {
     "cell_type": "code",
     "collapsed": false,
     "input": [
      "from pyma.noise_filter import classical_se_algorithm, ise_algorithm\n",
      "\n",
      "d = y.dropna()[:16]\n",
      "gca().plot(d)\n",
      "\n",
      "gca().plot(classical_se_algorithm(d, 10, 5))\n",
      "\n",
      "gca().plot(ise_algorithm(d, 10, 10))"
     ],
     "language": "python",
     "metadata": {},
     "outputs": []
    },
    {
     "cell_type": "code",
     "collapsed": false,
     "input": [],
     "language": "python",
     "metadata": {},
     "outputs": []
    }
   ],
   "metadata": {}
  }
 ]
}
