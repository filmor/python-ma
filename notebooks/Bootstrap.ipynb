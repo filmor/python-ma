{
 "metadata": {
  "name": "Bootstrap"
 },
 "nbformat": 3,
 "nbformat_minor": 0,
 "worksheets": [
  {
   "cells": [
    {
     "cell_type": "code",
     "collapsed": false,
     "input": [
      "import pandas as pd\n",
      "from pyma.slopes import *\n",
      "import numpy.random as npr\n",
      "\n",
      "gevp_solutions = pd.read_hdf(\"result.h5\", \"gevp_matched_ev\")"
     ],
     "language": "python",
     "metadata": {},
     "outputs": []
    },
    {
     "cell_type": "code",
     "collapsed": false,
     "input": [
      "def bootstrap(count, sample_size, original_size):\n",
      "    for i in range(count):\n",
      "        yield npr.random_integers(0, original_size, sample_size)"
     ],
     "language": "python",
     "metadata": {},
     "outputs": []
    },
    {
     "cell_type": "code",
     "collapsed": false,
     "input": [
      "%%time\n",
      "sample_count = 4000\n",
      "bootstrap_sample_size = 1000\n",
      "original_sample_count = 1000\n",
      "\n",
      "bootstrapped = pd.concat(\n",
      "    (\n",
      "        pd.concat((i.mean(), i.std()), keys = [\"mean\", \"std\"])\n",
      "        for i in (\n",
      "            gevp_solutions.ix[i].groupby(level=[1,2])\n",
      "            for i in bootstrap(sample_count, bootstrap_sample_size, original_sample_count)\n",
      "        )\n",
      "    ),\n",
      "    keys = range(sample_count)\n",
      ").unstack(level=1)"
     ],
     "language": "python",
     "metadata": {},
     "outputs": []
    },
    {
     "cell_type": "code",
     "collapsed": false,
     "input": [
      "bootstrapped"
     ],
     "language": "python",
     "metadata": {},
     "outputs": []
    },
    {
     "cell_type": "code",
     "collapsed": false,
     "input": [
      "bootstrapped.to_hdf(\"result.h5\", \"bootstrapped\")"
     ],
     "language": "python",
     "metadata": {},
     "outputs": []
    },
    {
     "cell_type": "code",
     "collapsed": false,
     "input": [
      "mean, std = a[randint(4000)]\n",
      "ev = 5\n",
      "t_0 = 0\n",
      "plt.gca().set_yscale(\"log\")\n",
      "plt.errorbar(mean[ev][t_0].index, mean[ev][t_0].values, yerr=std[ev][t_0])"
     ],
     "language": "python",
     "metadata": {},
     "outputs": []
    },
    {
     "cell_type": "code",
     "collapsed": false,
     "input": [
      "np.log(a[432][(5, \"std\")])"
     ],
     "language": "python",
     "metadata": {},
     "outputs": []
    },
    {
     "cell_type": "code",
     "collapsed": false,
     "input": [
      "input()"
     ],
     "language": "python",
     "metadata": {},
     "outputs": []
    },
    {
     "cell_type": "code",
     "collapsed": false,
     "input": [],
     "language": "python",
     "metadata": {},
     "outputs": []
    }
   ],
   "metadata": {}
  }
 ]
}
