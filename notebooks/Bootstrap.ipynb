{
 "metadata": {
  "name": "Bootstrap"
 },
 "nbformat": 3,
 "nbformat_minor": 0,
 "worksheets": [
  {
   "cells": [
    {
     "cell_type": "code",
     "collapsed": false,
     "input": [
      "import pandas as pd\n",
      "from pyma.slopes import *\n",
      "import numpy.random as npr\n",
      "\n",
      "# TODO: Read matrices into dataframe, bootstrap over them\n",
      "\n",
      "gevp_solutions = pd.read_hdf(\"result.h5\", \"gevp_matched_ev\")"
     ],
     "language": "python",
     "metadata": {},
     "outputs": []
    },
    {
     "cell_type": "code",
     "collapsed": false,
     "input": [
      "def bootstrap_indices(count, sample_size, original_size):\n",
      "    for i in range(count):\n",
      "        yield npr.random_integers(0, original_size - 1, sample_size)"
     ],
     "language": "python",
     "metadata": {},
     "outputs": []
    },
    {
     "cell_type": "code",
     "collapsed": false,
     "input": [
      "# TODO: Make levels configurable\n",
      "def bootstrap(sample, count=None, bootstrap_size=None):\n",
      "    sample_count = len(sample.count(level=0))\n",
      "    count = count or 4 * sample_count\n",
      "    bootstrap_size = bootstrap_size or sample_count\n",
      "        \n",
      "    return pd.concat(\n",
      "            (\n",
      "                pd.concat((i.mean(), i.std()), keys = [\"mean\", \"std\"])\n",
      "                for i in (\n",
      "                    sample.ix[i].groupby(level=[1,2])\n",
      "                    for i in bootstrap_indices(count, bootstrap_size, sample_count)\n",
      "                )\n",
      "            ),\n",
      "            keys = range(count)\n",
      "        ).unstack(level=1)\n",
      "                      "
     ],
     "language": "python",
     "metadata": {},
     "outputs": []
    },
    {
     "cell_type": "code",
     "collapsed": false,
     "input": [
      "%%time\n",
      "bootstrap(gevp_solutions).to_hdf(\"result.h5\", \"bootstrapped\")\n",
      "bootstrap(np.log(gevp_solutions)).to_hdf(\"result.h5\", \"bootstrapped_log\")"
     ],
     "language": "python",
     "metadata": {},
     "outputs": []
    }
   ],
   "metadata": {}
  }
 ]
}
