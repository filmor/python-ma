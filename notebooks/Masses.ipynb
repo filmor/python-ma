{
 "metadata": {
  "name": ""
 },
 "nbformat": 3,
 "nbformat_minor": 0,
 "worksheets": [
  {
   "cells": [
    {
     "cell_type": "code",
     "collapsed": false,
     "input": [
      "import pandas as pd\n",
      "from pyma.masses import *"
     ],
     "language": "python",
     "metadata": {},
     "outputs": []
    },
    {
     "cell_type": "code",
     "collapsed": false,
     "input": [
      "data.xs(t_0, level=1)[ev].groupby(level=0, group_keys=False).apply(calc_masses)"
     ],
     "language": "python",
     "metadata": {},
     "outputs": []
    },
    {
     "cell_type": "code",
     "collapsed": false,
     "input": [
      "def mass_plot(data, t_0, ev, ax, ax2, calc_masses=calc_masses_cosh, **kwargs):\n",
      "    masses = data.xs(t_0, level=1)[ev].groupby(level=0, group_keys=False).apply(calc_masses)\n",
      "    \n",
      "    yerr = masses.ix[1:].std(level=1)\n",
      "    y = masses.ix[0]\n",
      "    \n",
      "    x = y.index\n",
      "        \n",
      "    ax.errorbar(x, y, fmt=\".\", yerr=yerr, **kwargs)\n",
      "    ax2.plot(x, y / yerr, **kwargs)\n",
      "    \n",
      "    sum_of_weights = (1 / yerr ** 2).sum()\n",
      "    avg = (y / yerr ** 2).sum() / sum_of_weights\n",
      "    std = (((y - avg) / yerr)**2).sum() / sum_of_weights\n",
      "    \n",
      "    precision = str(int(ceil(-math.log10(std))))\n",
      "    print((\"'Fit': %.\" + precision + \"f +- %.\" + precision + \"f for %s\") % (avg, std, kwargs.get(\"label\", \"unknown\")))"
     ],
     "language": "python",
     "metadata": {},
     "outputs": []
    },
    {
     "cell_type": "code",
     "collapsed": false,
     "input": [
      "store = pd.HDFStore(\"/media/data/test.h5\", \"r\")"
     ],
     "language": "python",
     "metadata": {},
     "outputs": []
    },
    {
     "cell_type": "code",
     "collapsed": false,
     "input": [
      "print(store)"
     ],
     "language": "python",
     "metadata": {},
     "outputs": []
    },
    {
     "cell_type": "code",
     "collapsed": false,
     "input": [
      "# Reference data\n",
      "eta = [\n",
      "       {\n",
      "        \"name\": \"eta mean\",\n",
      "        \"avg\": 2.334651e-01,\n",
      "        \"std\": 3.280500e-03\n",
      "        },\n",
      "       {\n",
      "        \"name\": \"eta' mean\",\n",
      "        \"avg\": 4.358271e-01,\n",
      "        \"std\": 3.022240e-02\n",
      "        }\n",
      "       ]\n",
      "\n",
      "def plot_ref(ax):\n",
      "    x = list(range(32))\n",
      "    for d in eta:\n",
      "        avg = pd.Series(d[\"avg\"], x)\n",
      "        std = pd.Series(d[\"std\"], x)\n",
      "        ax.plot(avg + std, color=\"0.3\")\n",
      "        ax.plot(avg, label=d[\"name\"], color=\"0.5\")\n",
      "        ax.plot(avg - std, color=\"0.3\")\n"
     ],
     "language": "python",
     "metadata": {},
     "outputs": []
    },
    {
     "cell_type": "code",
     "collapsed": false,
     "input": [
      "t_0 = 2\n",
      "prefix = \"/gevs/eta/sp\"\n",
      "filter1, filter2 = \"unfiltered\", \"classical_n1_p6\"\n",
      "\n",
      "figsize(12, 6)\n",
      "ax = gca()\n",
      "figure()\n",
      "ax2 = gca()\n",
      "#for d in data:\n",
      "#    mass_plot(data[d], t_0, ev, ax, d)\n",
      "mass_plot(store[prefix + \"/\" + filter1], t_0, 1, ax, ax2, label=\"1 %s\" % filter1, color=\"LawnGreen\")\n",
      "mass_plot(store[prefix + \"/\" + filter2], t_0, 1, ax, ax2, label=\"1 %s\" % filter2, color=\"Green\")\n",
      "mass_plot(store[prefix + \"/\" + filter1], t_0, 0, ax, ax2, label=\"0 %s\" % filter1, color=\"OrangeRed\")\n",
      "mass_plot(store[prefix + \"/\" + filter2], t_0, 0, ax, ax2, label=\"0 %s\" % filter2, color=\"DarkRed\")\n",
      "plot_ref(ax)\n",
      "\n",
      "ax.set_ylim((0, 1))\n",
      "_ = ax.legend()\n",
      "_ = ax2.legend()"
     ],
     "language": "python",
     "metadata": {},
     "outputs": []
    },
    {
     "cell_type": "code",
     "collapsed": false,
     "input": [],
     "language": "python",
     "metadata": {},
     "outputs": []
    }
   ],
   "metadata": {}
  }
 ]
}
