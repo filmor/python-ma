{
 "metadata": {
  "name": "Read matrix"
 },
 "nbformat": 3,
 "nbformat_minor": 0,
 "worksheets": [
  {
   "cells": [
    {
     "cell_type": "code",
     "collapsed": false,
     "input": [
      "import pandas as pd\n",
      "import tarfile\n",
      "\n",
      "eta = tarfile.open(\"../data/eta.tar.gz\")\n",
      "pion = tarfile.open(\"../data/pion.tar.gz\")"
     ],
     "language": "python",
     "metadata": {},
     "outputs": []
    },
    {
     "cell_type": "code",
     "collapsed": false,
     "input": [
      "def read_file(f):\n",
      "    df = pd.read_csv(f, delim_whitespace=True, skiprows=1, names=[\"spin\", \"local/smeared\", \"time\", \"data\", \"data_2\"])\n",
      "    df.index = df[\"time\"]\n",
      "    del df[\"time\"]\n",
      "    del df[\"data_2\"]\n",
      "    return df\n",
      "\n",
      "def get_matrices(tarfile, run, size=3):\n",
      "    m = pd.DataFrame(\n",
      "            [\n",
      "                tuple(\n",
      "                    map(int, i.name.split(\".\")[3:6])\n",
      "                ) + (i,)\n",
      "                for i in tarfile.getmembers()\n",
      "            ], columns=[\"x\", \"y\", \"run\", \"info\"])\n",
      "    \n",
      "    df = m[m.run == run]\n",
      "    df[\"data\"] = df[\"info\"].map(lambda x: read_file(eta.extractfile(x)))\n",
      "                \n",
      "    def get_matrix(t):\n",
      "        result = np.zeros(size ** 2)\n",
      "        \n",
      "        for i in range(len(result)):\n",
      "            data = df[(df.x == i // size) & (df.y == i % size)][\"data\"].item()\n",
      "            result[i] = data[data[\"local/smeared\"] == 1][\"data\"][t]\n",
      "            \n",
      "        return result\n",
      "                    \n",
      "    return get_matrix"
     ],
     "language": "python",
     "metadata": {},
     "outputs": []
    },
    {
     "cell_type": "code",
     "collapsed": false,
     "input": [
      "gm = get_matrices(eta, 50)"
     ],
     "language": "python",
     "metadata": {},
     "outputs": []
    },
    {
     "cell_type": "code",
     "collapsed": false,
     "input": [
      "df = gm.__closure__[0].cell_contents"
     ],
     "language": "python",
     "metadata": {},
     "outputs": []
    },
    {
     "cell_type": "code",
     "collapsed": false,
     "input": [
      "df.cell_contents[0]"
     ],
     "language": "python",
     "metadata": {},
     "outputs": []
    },
    {
     "cell_type": "code",
     "collapsed": false,
     "input": [],
     "language": "python",
     "metadata": {},
     "outputs": []
    }
   ],
   "metadata": {}
  }
 ]
}