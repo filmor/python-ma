{
 "metadata": {
  "name": "Read matrix"
 },
 "nbformat": 3,
 "nbformat_minor": 0,
 "worksheets": [
  {
   "cells": [
    {
     "cell_type": "code",
     "collapsed": false,
     "input": [
      "import pandas as pd\n",
      "import tarfile\n",
      "\n",
      "eta = tarfile.open(\"../data/eta.tar.gz\")\n",
      "pion = tarfile.open(\"../data/pion.tar.gz\")"
     ],
     "language": "python",
     "metadata": {},
     "outputs": [],
     "prompt_number": 1
    },
    {
     "cell_type": "code",
     "collapsed": false,
     "input": [
      "def read_file(f):\n",
      "    df = pd.read_csv(f, delim_whitespace=True, skiprows=1, names=[\"spin\", \"local/smeared\", \"time\", \"data\", \"data_2\"])\n",
      "    df.index = df[\"time\"]\n",
      "    del df[\"time\"]\n",
      "    del df[\"data_2\"]\n",
      "    return df\n",
      "\n",
      "def get_matrices(tarfile, run, size=3):\n",
      "    m = pd.DataFrame(\n",
      "            [\n",
      "                tuple(\n",
      "                    map(int, i.name.split(\".\")[3:6])\n",
      "                ) + (i,)\n",
      "                for i in tarfile.getmembers()\n",
      "            ], columns=[\"x\", \"y\", \"run\", \"info\"])\n",
      "    \n",
      "    df = m[m.run == run]\n",
      "    df[\"data\"] = df[\"info\"].map(lambda x: read_file(eta.extractfile(x)))\n",
      "                \n",
      "    def get_matrix(t):\n",
      "        result = np.zeros(size ** 2)\n",
      "        \n",
      "        for i in len(result):\n",
      "            data = next(df[(df.x == i // size) & (df.y == i % size)][\"data\"].items())[1]\n",
      "            result[i] = data[data[\"local/smeared\"] == 1][\"data\"][t]\n",
      "            \n",
      "        return result\n",
      "                    \n",
      "    return get_matrix"
     ],
     "language": "python",
     "metadata": {},
     "outputs": [],
     "prompt_number": 5
    },
    {
     "cell_type": "code",
     "collapsed": false,
     "input": [
      "get_matrices(eta, 50)"
     ],
     "language": "python",
     "metadata": {},
     "outputs": [
      {
       "ename": "NameError",
       "evalue": "name 'eta' is not defined",
       "output_type": "pyerr",
       "traceback": [
        "\u001b[1;31m---------------------------------------------------------------------------\u001b[0m\n\u001b[1;31mNameError\u001b[0m                                 Traceback (most recent call last)",
        "\u001b[1;32m<ipython-input-6-ca550cd2dc0e>\u001b[0m in \u001b[0;36m<module>\u001b[1;34m()\u001b[0m\n\u001b[1;32m----> 1\u001b[1;33m \u001b[0mget_matrices\u001b[0m\u001b[1;33m(\u001b[0m\u001b[0meta\u001b[0m\u001b[1;33m,\u001b[0m \u001b[1;36m50\u001b[0m\u001b[1;33m)\u001b[0m\u001b[1;33m\u001b[0m\u001b[0m\n\u001b[0m",
        "\u001b[1;31mNameError\u001b[0m: name 'eta' is not defined"
       ]
      }
     ],
     "prompt_number": 6
    },
    {
     "cell_type": "code",
     "collapsed": false,
     "input": [
      "dr = df[(df.x == 1) & (df.y == 2)][\"data\"]"
     ],
     "language": "python",
     "metadata": {},
     "outputs": [],
     "prompt_number": 31
    },
    {
     "cell_type": "code",
     "collapsed": false,
     "input": [
      "df = next(dr.items())[1]"
     ],
     "language": "python",
     "metadata": {},
     "outputs": [],
     "prompt_number": 50
    },
    {
     "cell_type": "code",
     "collapsed": false,
     "input": [
      "df"
     ],
     "language": "python",
     "metadata": {},
     "outputs": [
      {
       "html": [
        "<pre>\n",
        "&ltclass 'pandas.core.frame.DataFrame'&gt\n",
        "Int64Index: 131 entries, 1 to 32\n",
        "Data columns (total 3 columns):\n",
        "spin             131  non-null values\n",
        "local/smeared    131  non-null values\n",
        "data             131  non-null values\n",
        "dtypes: float64(1), int64(2)\n",
        "</pre>"
       ],
       "output_type": "pyout",
       "prompt_number": 62,
       "text": [
        "<class 'pandas.core.frame.DataFrame'>\n",
        "Int64Index: 131 entries, 1 to 32\n",
        "Data columns (total 3 columns):\n",
        "spin             131  non-null values\n",
        "local/smeared    131  non-null values\n",
        "data             131  non-null values\n",
        "dtypes: float64(1), int64(2)"
       ]
      }
     ],
     "prompt_number": 62
    },
    {
     "cell_type": "code",
     "collapsed": false,
     "input": [
      "df[df[\"local/smeared\"] == 1].data"
     ],
     "language": "python",
     "metadata": {},
     "outputs": [
      {
       "output_type": "pyout",
       "prompt_number": 67,
       "text": [
        "time\n",
        "1       0.235650\n",
        "2       0.152641\n",
        "3       0.095833\n",
        "4       0.063505\n",
        "5       0.044220\n",
        "6       0.031996\n",
        "7       0.023638\n",
        "8       0.017852\n",
        "9       0.013579\n",
        "10      0.010437\n",
        "11      0.008270\n",
        "12      0.006470\n",
        "13      0.004965\n",
        "14      0.003942\n",
        "15      0.003079\n",
        "16      0.002633\n",
        "17      0.002171\n",
        "18      0.001749\n",
        "19      0.001426\n",
        "20      0.001344\n",
        "21      0.001371\n",
        "22      0.001328\n",
        "23      0.001118\n",
        "24      0.000820\n",
        "25      0.000672\n",
        "26      0.000707\n",
        "27      0.000623\n",
        "28      0.000475\n",
        "29      0.000591\n",
        "30      0.000646\n",
        "31      0.000697\n",
        "32      0.000726\n",
        "Name: data, dtype: float64"
       ]
      }
     ],
     "prompt_number": 67
    },
    {
     "cell_type": "code",
     "collapsed": false,
     "input": [
      "np.zeros(9)"
     ],
     "language": "python",
     "metadata": {},
     "outputs": [
      {
       "output_type": "pyout",
       "prompt_number": 61,
       "text": [
        "array([ 0.,  0.,  0.,  0.,  0.,  0.,  0.,  0.,  0.])"
       ]
      }
     ],
     "prompt_number": 61
    },
    {
     "cell_type": "code",
     "collapsed": false,
     "input": [],
     "language": "python",
     "metadata": {},
     "outputs": []
    }
   ],
   "metadata": {}
  }
 ]
}