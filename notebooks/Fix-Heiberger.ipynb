{
 "metadata": {
  "name": ""
 },
 "nbformat": 3,
 "nbformat_minor": 0,
 "worksheets": [
  {
   "cells": [
    {
     "cell_type": "code",
     "collapsed": false,
     "input": [
      "import pandas as pd\n",
      "import tables\n",
      "import numpy as np\n",
      "import scipy.linalg as la\n",
      "\n",
      "with tables.open_file(\"../data/base_data.h5\") as t:\n",
      "    data = np.array(t.get_node(\"/input/eta_sym\"))\n",
      "    \n",
      "# Calculate the variance of each matrix by calculating the respective subvariances (i.e. $\\sigma^2$) and then summing for each.\n",
      "data_variance = data[1:].var(axis=0).sum(axis=(1, 2))\n",
      "\n",
      "# Estimate the error of each matrix pencil using the errors (in norm) of the involved matrices.\n",
      "matrix_errors = [np.sqrt(data_variance[i] + data_variance[i+1:]) for i in range(len(data_variance))]\n",
      "\n",
      "sample = data[0]\n",
      "\n",
      "np.set_printoptions(linewidth=120)"
     ],
     "language": "python",
     "metadata": {},
     "outputs": []
    },
    {
     "cell_type": "code",
     "collapsed": false,
     "input": [
      "eps = 1e-5\n",
      "\n",
      "A = sample[10]\n",
      "B = sample[12]"
     ],
     "language": "python",
     "metadata": {},
     "outputs": []
    },
    {
     "cell_type": "code",
     "collapsed": false,
     "input": [
      "def simple_fix_heiberger(A, B, eps=1e-5):\n",
      "    V, E = la.eigh(B)\n",
      "    \n",
      "    # Set all elements of the diagonal less than eps to 0 (note that we intentionally also reset all negative values)\n",
      "    empty = V > eps\n",
      "    \n",
      "    D = np.matrix(np.diag(V[empty]))\n",
      "    Q = np.matrix(E[empty])\n",
      "    \n",
      "    A_0 = Q * A * Q.T\n",
      "    B_0 = Q * B * Q.T\n",
      "    \n",
      "    R = np.matrix(np.diag(np.diag(D) ** (-0.5)))\n",
      "    A_1 = R.T * A_0 * R\n",
      "    B_1 = R.T * B_0 * R\n",
      "    \n",
      "    return la.eigvalsh(A_1)[::-1]\n"
     ],
     "language": "python",
     "metadata": {},
     "outputs": []
    },
    {
     "cell_type": "code",
     "collapsed": false,
     "input": [
      "simple_fix_heiberger(sample[10], sample[3])[::-1]"
     ],
     "language": "python",
     "metadata": {},
     "outputs": []
    }
   ],
   "metadata": {}
  }
 ]
}
