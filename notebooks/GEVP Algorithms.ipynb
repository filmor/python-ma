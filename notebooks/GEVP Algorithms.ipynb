{
 "metadata": {
  "name": ""
 },
 "nbformat": 3,
 "nbformat_minor": 0,
 "worksheets": [
  {
   "cells": [
    {
     "cell_type": "code",
     "collapsed": false,
     "input": [
      "%load_ext cythonmagic"
     ],
     "language": "python",
     "metadata": {},
     "outputs": []
    },
    {
     "cell_type": "heading",
     "level": 1,
     "metadata": {},
     "source": [
      "Truncated CG"
     ]
    },
    {
     "cell_type": "markdown",
     "metadata": {},
     "source": [
      "Wir wollen\n",
      "$f\\colon S_B(1)\\to \\mathbf{R}, y \\mapsto \\frac{y^tAy}{y^tBy}$\n",
      "minimieren.\n",
      "\n",
      "Dazu:\n",
      "$H_y = 2 P_y (A - \\sigma B) P_y$ oder $H_y = \\mathrm{Hess}_y$ (superlineare Konvergenz)"
     ]
    },
    {
     "cell_type": "code",
     "collapsed": false,
     "input": [],
     "language": "python",
     "metadata": {},
     "outputs": []
    }
   ],
   "metadata": {}
  }
 ]
}
