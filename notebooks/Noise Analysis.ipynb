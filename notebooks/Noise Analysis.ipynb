{
 "metadata": {
  "name": ""
 },
 "nbformat": 3,
 "nbformat_minor": 0,
 "worksheets": [
  {
   "cells": [
    {
     "cell_type": "code",
     "collapsed": false,
     "input": [
      "import pandas as pd\n",
      "import tables\n",
      "import scipy.linalg as la"
     ],
     "language": "python",
     "metadata": {},
     "outputs": []
    },
    {
     "cell_type": "code",
     "collapsed": false,
     "input": [
      "with tables.open_file(\"../data/base_data.h5\") as t:\n",
      "    data = np.array(t.get_node(\"/input/eta_sym\"))\n",
      "\n",
      "# Calculate the variance of each matrix by calculating the respective subvariances (i.e. $\\sigma^2$) and then summing for each.\n",
      "data_variance = data[1:].var(axis=0).sum(axis=(1, 2))\n",
      "\n",
      "# Estimate the error of each matrix pencil using the errors (in norm) of the involved matrices.\n",
      "matrix_errors = [np.sqrt(data_variance[i] + data_variance[i+1:]) for i in range(len(data_variance))]"
     ],
     "language": "python",
     "metadata": {},
     "outputs": []
    },
    {
     "cell_type": "code",
     "collapsed": false,
     "input": [
      "diffs = np.array([m - data[0] for m in data[1:]]).reshape((999, 32, 6, 6)).mean(axis=0)"
     ],
     "language": "python",
     "metadata": {},
     "outputs": []
    },
    {
     "cell_type": "code",
     "collapsed": false,
     "input": [
      "plot([la.eigvalsh(m) for m in diffs])"
     ],
     "language": "python",
     "metadata": {},
     "outputs": []
    },
    {
     "cell_type": "code",
     "collapsed": false,
     "input": [
      "def spec(data, ax):\n",
      "    figure()\n",
      "    diffs = np.array([m - data[0] for m in data[1:]]).reshape((999, 32 * 36)).transpose()\n",
      "    #diffs = data.reshape((1000, 32 * 36)).transpose()\n",
      "    specgram(diffs.sum(axis=0))\n",
      "    x, y = scipy.signal.welch(diffs)\n",
      "    y = y.sum(axis=0)\n",
      "    ax.plot(x, y)\n"
     ],
     "language": "python",
     "metadata": {},
     "outputs": []
    },
    {
     "cell_type": "code",
     "collapsed": false,
     "input": [
      "import pyma.noise_filter\n",
      "data_filtered = np.array([pyma.noise_filter.classical_matrix_se_algorithm(d, n=6, p=4) for d in data])"
     ],
     "language": "python",
     "metadata": {},
     "outputs": []
    },
    {
     "cell_type": "code",
     "collapsed": false,
     "input": [
      "np.sqrt(sum((data_filtered - data) ** 2))"
     ],
     "language": "python",
     "metadata": {},
     "outputs": []
    },
    {
     "cell_type": "code",
     "collapsed": false,
     "input": [
      "data_t = data.reshape((1000, 32 * 36)).transpose()"
     ],
     "language": "python",
     "metadata": {},
     "outputs": []
    },
    {
     "cell_type": "code",
     "collapsed": false,
     "input": [
      "scipy.signal.correlate(data_t[0], data_t[1])"
     ],
     "language": "python",
     "metadata": {},
     "outputs": []
    },
    {
     "cell_type": "code",
     "collapsed": false,
     "input": [
      "scipy.signal.correlate(diffs[0], diffs[1])"
     ],
     "language": "python",
     "metadata": {},
     "outputs": []
    },
    {
     "cell_type": "code",
     "collapsed": false,
     "input": [
      "ax = gca()\n",
      "spec(data, ax)\n",
      "spec(data_filtered, ax)"
     ],
     "language": "python",
     "metadata": {},
     "outputs": []
    }
   ],
   "metadata": {}
  }
 ]
}
