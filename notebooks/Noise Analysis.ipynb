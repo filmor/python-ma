{
 "metadata": {
  "name": ""
 },
 "nbformat": 3,
 "nbformat_minor": 0,
 "worksheets": [
  {
   "cells": [
    {
     "cell_type": "code",
     "collapsed": false,
     "input": [
      "import pandas as pd\n",
      "import tables\n",
      "import scipy.linalg as la"
     ],
     "language": "python",
     "metadata": {},
     "outputs": []
    },
    {
     "cell_type": "code",
     "collapsed": false,
     "input": [
      "with tables.open_file(\"../data/base_data.h5\") as t:\n",
      "    data = np.array(t.get_node(\"/input/eta_sym\"))\n",
      "\n",
      "# Calculate the variance of each matrix by calculating the respective subvariances (i.e. $\\sigma^2$) and then summing for each.\n",
      "data_variance = data[1:].var(axis=0).sum(axis=(1, 2))\n",
      "\n",
      "# Estimate the error of each matrix pencil using the errors (in norm) of the involved matrices.\n",
      "matrix_errors = [np.sqrt(data_variance[i] + data_variance[i+1:]) for i in range(len(data_variance))]"
     ],
     "language": "python",
     "metadata": {},
     "outputs": []
    },
    {
     "cell_type": "code",
     "collapsed": false,
     "input": [
      "data_variance = data[1:].var(axis=0)[:15].mean(axis=0)"
     ],
     "language": "python",
     "metadata": {},
     "outputs": []
    },
    {
     "cell_type": "code",
     "collapsed": false,
     "input": [
      "diffs = np.array([m - data[0] for m in data[1:]]).reshape((999, 32, 6, 6)).mean(axis=0)"
     ],
     "language": "python",
     "metadata": {},
     "outputs": []
    },
    {
     "cell_type": "code",
     "collapsed": false,
     "input": [
      "plot([la.eigvalsh(m) for m in diffs])"
     ],
     "language": "python",
     "metadata": {},
     "outputs": []
    },
    {
     "cell_type": "code",
     "collapsed": false,
     "input": [
      "def spec(data, ax):\n",
      "    figure()\n",
      "    diffs = np.array([m - data[0] for m in data[1:]]).reshape((999, 32 * 36)).transpose()\n",
      "    #diffs = data.reshape((1000, 32 * 36)).transpose()\n",
      "    specgram(diffs.sum(axis=0))\n",
      "    x, y = scipy.signal.welch(diffs)\n",
      "    y = y.sum(axis=0)\n",
      "    ax.plot(x, y)\n"
     ],
     "language": "python",
     "metadata": {},
     "outputs": []
    },
    {
     "cell_type": "code",
     "collapsed": false,
     "input": [
      "import pyma.noise_filter as nf"
     ],
     "language": "python",
     "metadata": {},
     "outputs": []
    },
    {
     "cell_type": "code",
     "collapsed": false,
     "input": [
      "def norm(A):\n",
      "    return np.sqrt(np.sum(A ** 2))\n",
      "\n",
      "def spec_norm(A):\n",
      "    return la.svdvals(A)[0]"
     ],
     "language": "python",
     "metadata": {},
     "outputs": []
    },
    {
     "cell_type": "code",
     "collapsed": false,
     "input": [
      "from pyma.noise_analysis import *"
     ],
     "language": "python",
     "metadata": {},
     "outputs": []
    },
    {
     "cell_type": "code",
     "collapsed": false,
     "input": [
      "_ = plot_noise_histogram(gca(), 16, norm=\"frob_norm\", label=\"Limit at 16\", histtype=\"step\", compare=False)\n",
      "_ = plot_noise_histogram(gca(), 24, norm=\"frob_norm\", label=\"Limit at 24\", histtype=\"step\", compare=False)\n",
      "_ = plot_noise_histogram(gca(), 28, norm=\"frob_norm\", label=\"Limit at 28\", histtype=\"step\", compare=False)\n",
      "_ = legend()\n",
      "figure()\n",
      "_ = plot_noise_histogram(gca(), 16, norm=\"spec_norm\", label=\"Limit at 16\", histtype=\"step\", range=[0, 1000], compare=True)\n",
      "_ = plot_noise_histogram(gca(), 24, norm=\"spec_norm\", label=\"Limit at 24\", histtype=\"step\", range=[0, 1000], compare=True)\n",
      "_ = plot_noise_histogram(gca(), 28, norm=\"spec_norm\", label=\"Limit at 28\", histtype=\"step\", range=[0, 1000], compare=True)\n",
      "_ = legend()"
     ],
     "language": "python",
     "metadata": {},
     "outputs": []
    },
    {
     "cell_type": "code",
     "collapsed": false,
     "input": [
      "import pyma.noise_analysis as na\n",
      "import pyma.noise_filter as nf"
     ],
     "language": "python",
     "metadata": {},
     "outputs": []
    },
    {
     "cell_type": "code",
     "collapsed": false,
     "input": [
      "entry = data[0, :, 2, 2]\n",
      "for L in range(1, 32):\n",
      "    figure()\n",
      "    s1 = la.svdvals(nf.get_hankel_matrix(entry, L))\n",
      "    noise = na.get_noise(24, entry)\n",
      "    N = nf.get_hankel_matrix(noise, L)\n",
      "    s2 = la.svdvals(N)\n",
      "    gca().set_yscale(\"log\")\n",
      "    plot(s1)\n",
      "    plot(s2)"
     ],
     "language": "python",
     "metadata": {},
     "outputs": []
    },
    {
     "cell_type": "code",
     "collapsed": false,
     "input": [
      "limit = 24\n",
      "\n",
      "results = []\n",
      "\n",
      "for n in range(6):\n",
      "    for m in range(n):\n",
      "        res_spec = []\n",
      "        res_frob = []\n",
      "        for d in range(1000):\n",
      "            entry = data[d,:,n,m]\n",
      "            noise = np.repeat(entry[limit:], 32 / (32 - limit))\n",
      "            plot(noise\n",
      "            H = nf.get_hankel_matrix(entry)\n",
      "            res_frob.append(norm(H) / norm(N * (N - H)))\n",
      "\n",
      "        results.append(res_frob)\n"
     ],
     "language": "python",
     "metadata": {},
     "outputs": []
    },
    {
     "cell_type": "code",
     "collapsed": false,
     "input": [
      "limit = 24\n",
      "\n",
      "results = []\n",
      "\n",
      "for n in range(6):\n",
      "    for m in range(n):\n",
      "        res_spec = []\n",
      "        res_frob = []\n",
      "        for d in range(1000):\n",
      "            entry = data[d,:,n,m]\n",
      "            noise = np.repeat(entry[limit:], 32 / (32 - limit))\n",
      "            N = nf.filter_step(nf.get_hankel_matrix(noise), mod)\n",
      "            H = nf.get_hankel_matrix(entry)\n",
      "            res_frob.append(norm(H) / norm(N * (N - H)))\n",
      "\n",
      "        results.append(res_frob)\n"
     ],
     "language": "python",
     "metadata": {},
     "outputs": []
    },
    {
     "cell_type": "code",
     "collapsed": false,
     "input": [
      "np.concatenate([1,2,3] for i in range(2))"
     ],
     "language": "python",
     "metadata": {},
     "outputs": []
    },
    {
     "cell_type": "code",
     "collapsed": false,
     "input": [
      "#for val in results:\n",
      "#    hist(val, range=[0,1000], bins=200)\n",
      "#    print(min(val))\n",
      "_ = hist(np.concatenate(results), bins=100, range=(0,1000), normed=True, log=True)\n",
      "figure()\n",
      "_ = hist(np.concatenate(results_spec), bins=100, range=[0,1000], normed=True, log=True)"
     ],
     "language": "python",
     "metadata": {},
     "outputs": []
    },
    {
     "cell_type": "code",
     "collapsed": false,
     "input": [
      "entry"
     ],
     "language": "python",
     "metadata": {},
     "outputs": []
    },
    {
     "cell_type": "code",
     "collapsed": false,
     "input": [
      "N = nf.get_hankel_matrix(data[0][15:][1][2])"
     ],
     "language": "python",
     "metadata": {},
     "outputs": []
    },
    {
     "cell_type": "code",
     "collapsed": false,
     "input": [
      "N * N"
     ],
     "language": "python",
     "metadata": {},
     "outputs": []
    },
    {
     "cell_type": "code",
     "collapsed": false,
     "input": [
      "import pyma.noise_filter\n",
      "data_filtered = np.array([pyma.noise_filter.classical_matrix_se_algorithm(d, n=6, p=4) for d in data])"
     ],
     "language": "python",
     "metadata": {},
     "outputs": []
    },
    {
     "cell_type": "code",
     "collapsed": false,
     "input": [
      "np.sqrt(sum((data_filtered - data) ** 2))"
     ],
     "language": "python",
     "metadata": {},
     "outputs": []
    },
    {
     "cell_type": "code",
     "collapsed": false,
     "input": [
      "data_t = data.reshape((1000, 32 * 36)).transpose()"
     ],
     "language": "python",
     "metadata": {},
     "outputs": []
    },
    {
     "cell_type": "code",
     "collapsed": false,
     "input": [
      "scipy.signal.correlate(data_t[0], data_t[1])"
     ],
     "language": "python",
     "metadata": {},
     "outputs": []
    },
    {
     "cell_type": "code",
     "collapsed": false,
     "input": [
      "scipy.signal.correlate(diffs[0], diffs[1])"
     ],
     "language": "python",
     "metadata": {},
     "outputs": []
    },
    {
     "cell_type": "code",
     "collapsed": false,
     "input": [
      "ax = gca()\n",
      "spec(data, ax)\n",
      "spec(data_filtered, ax)"
     ],
     "language": "python",
     "metadata": {},
     "outputs": []
    },
    {
     "cell_type": "code",
     "collapsed": false,
     "input": [],
     "language": "python",
     "metadata": {},
     "outputs": []
    }
   ],
   "metadata": {}
  }
 ]
}
