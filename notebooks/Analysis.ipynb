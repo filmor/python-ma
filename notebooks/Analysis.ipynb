{
 "metadata": {
  "name": "Analysis"
 },
 "nbformat": 3,
 "nbformat_minor": 0,
 "worksheets": [
  {
   "cells": [
    {
     "cell_type": "code",
     "collapsed": false,
     "input": [
      "import pandas as pd\n",
      "from matplotlib.collections import LineCollection\n",
      "from matplotlib.colors import ListedColormap\n",
      "from pyma.slopes import *\n",
      "\n",
      "store = pd.HDFStore(\"result.h5\")\n",
      "gevp_solutions = store.gevp_matched_ev"
     ],
     "language": "python",
     "metadata": {},
     "outputs": []
    },
    {
     "cell_type": "code",
     "collapsed": false,
     "input": [
      "a = get_slopes(gevp_solutions)"
     ],
     "language": "python",
     "metadata": {},
     "outputs": []
    },
    {
     "cell_type": "code",
     "collapsed": false,
     "input": [
      "for i in gevp_solutions:\n",
      "    figure()\n",
      "    title(\"Eigenvalue %s\" % i)\n",
      "    a.ix[i][\"mean\"].plot()\n",
      "    axhline(a.ix[i][\"mean\"].median(), linewidth=1, color='r')\n"
     ],
     "language": "python",
     "metadata": {},
     "outputs": []
    },
    {
     "cell_type": "code",
     "collapsed": false,
     "input": [
      "gevp_log = np.log(gevp)\n",
      "sample = gevp_log.ix[123].ix[0]\n",
      "first = sample[[5]]\n",
      "second = sample[[4]]"
     ],
     "language": "python",
     "metadata": {},
     "outputs": []
    },
    {
     "cell_type": "code",
     "collapsed": false,
     "input": [
      "def plot_and_mark(values, mark, *args, **kwargs):\n",
      "    marked = values[mark]\n",
      "    marked[\"_second\"] = marked.shift(1)\n",
      "    unmarked = values[~mark]\n",
      "    unmarked[\"_second\"] = unmarked.shift(1)\n",
      "    lc = LineCollection([marked, unmarked], cmap=ListedColormap([\"r\", \"g\"]))\n",
      "    return lc"
     ],
     "language": "python",
     "metadata": {},
     "outputs": []
    },
    {
     "cell_type": "code",
     "collapsed": false,
     "input": [
      "lc = plot_and_mark(first, first < 5)\n",
      "lc.set_array(np.array(first))\n",
      "plt.gca().add_collection(lc)\n",
      "plot()\n"
     ],
     "language": "python",
     "metadata": {},
     "outputs": []
    }
   ],
   "metadata": {}
  }
 ]
}
