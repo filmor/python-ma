{
 "metadata": {
  "name": ""
 },
 "nbformat": 3,
 "nbformat_minor": 0,
 "worksheets": [
  {
   "cells": [
    {
     "cell_type": "code",
     "collapsed": false,
     "input": [
      "import pandas as pd\n",
      "\n",
      "samples = pd.read_hdf(\"result.h5\", \"gevp_matched_ev\")\n",
      "\n",
      "interesting_ev = [3, 4, 5]"
     ],
     "language": "python",
     "metadata": {},
     "outputs": []
    },
    {
     "cell_type": "code",
     "collapsed": false,
     "input": [
      "from pyma.slopes import get_slope_exp_fit as get_slope\n",
      "\n",
      "def get_slopes(samples):\n",
      "    for (run, t_0), df in samples.groupby(level=[0, 1]):\n",
      "        df = df.reset_index(level=[0, 1], drop=True)\n",
      "        \n",
      "        for ev in interesting_ev:\n",
      "            try:\n",
      "                val, err = get_slope(df[ev]) # df[(ev, \"mean\")], df[(ev, \"std\")])\n",
      "                yield dict(run=run, t_0=t_0, eigenvalue=ev, value=val, variance=err)\n",
      "            except RuntimeError:\n",
      "                pass\n",
      "            except TypeError:\n",
      "                pass\n"
     ],
     "language": "python",
     "metadata": {},
     "outputs": []
    },
    {
     "cell_type": "code",
     "collapsed": false,
     "input": [
      "from numpy import polyfit, polyval\n",
      "from math import sqrt\n",
      "\n",
      "def get_slope(mean, std=None, range=slice(1, 6)):\n",
      "    weights = 1 / std[range] if not std is None else None\n",
      "    result, cov = polyfit(mean[range].index.data, mean[range].data, deg=1, cov=True, w=weights)\n",
      "    \n",
      "    return result[0], cov[0][0]\n",
      "\n",
      "def get_slopes(samples):\n",
      "    samples = np.log(samples)\n",
      "    sample_count = len(samples.index.levels[0])\n",
      "    for (run, t_0), df in samples.groupby(level=[0, 1]):        \n",
      "        df = df.reset_index(level=[0, 1], drop=True)\n",
      "\n",
      "        for ev in interesting_ev:\n",
      "            try:\n",
      "                val, err = get_slope(df[(ev, \"mean\")], df[(ev, \"std\")])\n",
      "                yield dict(run=run, t_0=t_0, eigenvalue=ev, value=val, variance=err)\n",
      "            except KeyError:\n",
      "                val, err = get_slope(df[ev])\n",
      "                yield dict(run=run, t_0=t_0, eigenvalue=ev, value=val, variance=err)\n",
      "            except ValueError:\n",
      "                pass"
     ],
     "language": "python",
     "metadata": {},
     "outputs": []
    },
    {
     "cell_type": "code",
     "collapsed": false,
     "input": [
      "%%time\n",
      "result = pd.DataFrame(list(get_slopes(samples)))"
     ],
     "language": "python",
     "metadata": {},
     "outputs": []
    },
    {
     "cell_type": "code",
     "collapsed": false,
     "input": [
      "for i in interesting_ev:\n",
      "    df = result[result[\"eigenvalue\"] == i]\n",
      "    std = np.sqrt(df[\"variance\"])\n",
      "    print(\"%i %s\" % (i, (df[\"value\"] * std).sum() / std.sum()))for i in interesting_ev:\n",
      "    df = result[result[\"eigenvalue\"] == i]\n",
      "    std = np.sqrt(df[\"variance\"])\n",
      "    print(\"%i %s\" % (i, (df[\"value\"] * std).sum() / std.sum()))"
     ],
     "language": "python",
     "metadata": {},
     "outputs": []
    },
    {
     "cell_type": "code",
     "collapsed": false,
     "input": [
      "result"
     ],
     "language": "python",
     "metadata": {},
     "outputs": []
    },
    {
     "cell_type": "code",
     "collapsed": false,
     "input": [
      "df.count()"
     ],
     "language": "python",
     "metadata": {},
     "outputs": []
    },
    {
     "cell_type": "code",
     "collapsed": false,
     "input": [
      "samples[5][(0,0)].plot()"
     ],
     "language": "python",
     "metadata": {},
     "outputs": []
    },
    {
     "cell_type": "code",
     "collapsed": false,
     "input": [],
     "language": "python",
     "metadata": {},
     "outputs": []
    }
   ],
   "metadata": {}
  }
 ]
}
