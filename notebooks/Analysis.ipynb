{
 "metadata": {
  "name": "Analysis"
 },
 "nbformat": 3,
 "nbformat_minor": 0,
 "worksheets": [
  {
   "cells": [
    {
     "cell_type": "code",
     "collapsed": false,
     "input": [
      "import pandas as pd\n",
      "\n",
      "original_samples = pd.read_hdf(\"result.h5\", \"gevp_matched_ev\")\n",
      "samples = pd.read_hdf(\"result.h5\", \"bootstrapped\").dropna()\n",
      "samples_log = pd.read_hdf(\"result.h5\", \"bootstrapped_log\").dropna()\n",
      "\n",
      "interesting_ev = [1, 2, 3, 4, 5]"
     ],
     "language": "python",
     "metadata": {},
     "outputs": []
    },
    {
     "cell_type": "code",
     "collapsed": false,
     "input": [
      "from IPython.display import *"
     ],
     "language": "python",
     "metadata": {},
     "outputs": []
    },
    {
     "cell_type": "code",
     "collapsed": false,
     "input": [
      "from pyma.slopes import get_slope_simple as get_slope\n",
      "\n",
      "def get_slopes(samples):\n",
      "    for (run, t_0), df in samples.groupby(level=[0, 1]):\n",
      "        if t_0 == 0 and run % 100 == 0:\n",
      "            display(Javascript('$(\"#progress\").css(\"width\", \"%s%%\")' % round(run / 4000 * 100)))\n",
      "            display(Javascript(\"console.log(%s)\" % run))\n",
      "        \n",
      "        df = df.reset_index(level=[0, 1], drop=True)\n",
      "        \n",
      "        for ev in interesting_ev:\n",
      "            try:\n",
      "                val, err = get_slope(df[(ev, \"mean\")], df[(ev, \"std\")])\n",
      "                yield dict(run=run, t_0=t_0, eigenvalue=ev, value=val, variance=err)\n",
      "            except RuntimeError:\n",
      "                pass\n",
      "            except TypeError:\n",
      "                pass\n"
     ],
     "language": "python",
     "metadata": {},
     "outputs": []
    },
    {
     "cell_type": "code",
     "collapsed": false,
     "input": [
      "from numpy import polyfit, polyval\n",
      "from math import sqrt\n",
      "\n",
      "def get_slope(mean, std=None, range=slice(1, 6)):\n",
      "    weights = 1 / std[range] if not std is None else None\n",
      "    result, cov = polyfit(mean[range].index.data, mean[range].data, deg=1, cov=True, w=weights)\n",
      "    \n",
      "    return result[0], cov[0][0]\n",
      "\n",
      "def get_slopes(samples):\n",
      "    sample_count = len(samples.index.levels[0])\n",
      "    for (run, t_0), df in samples.groupby(level=[0, 1]):\n",
      "        if t_0 == 0:\n",
      "            display(Javascript('$(\"#progress\").css(\"width\", \"%s%%\")' % round(run / sample_count * 100)))\n",
      "        else:\n",
      "            continue\n",
      "        \n",
      "        df = df.reset_index(level=[0, 1], drop=True)\n",
      "\n",
      "        for ev in interesting_ev:\n",
      "            try:\n",
      "                val, err = get_slope(df[(ev, \"mean\")], df[(ev, \"std\")])\n",
      "                yield dict(run=run, t_0=t_0, eigenvalue=ev, value=val, variance=err)\n",
      "            except KeyError:\n",
      "                val, err = get_slope(df[ev])\n",
      "                yield dict(run=run, t_0=t_0, eigenvalue=ev, value=val, variance=err)\n",
      "            except ValueError:\n",
      "                pass"
     ],
     "language": "python",
     "metadata": {},
     "outputs": []
    },
    {
     "cell_type": "markdown",
     "metadata": {},
     "source": [
      "<div class=\"progress\">\n",
      "    <div id=\"progress\" class=\"bar\" style=\"width: 0%;\"></div>\n",
      "</div>"
     ]
    },
    {
     "cell_type": "code",
     "collapsed": false,
     "input": [
      "%%time\n",
      "result = pd.DataFrame(list(get_slopes(samples_log)))                           "
     ],
     "language": "python",
     "metadata": {},
     "outputs": []
    },
    {
     "cell_type": "code",
     "collapsed": false,
     "input": [
      "df = samples_log.ix[1062].ix[0]"
     ],
     "language": "python",
     "metadata": {},
     "outputs": []
    },
    {
     "cell_type": "code",
     "collapsed": false,
     "input": [
      "df[(3, \"mean\")].plot()"
     ],
     "language": "python",
     "metadata": {},
     "outputs": []
    },
    {
     "cell_type": "code",
     "collapsed": false,
     "input": [
      "plt.errorbar(df.index, df[(3, \"mean\")], df[(3, \"std\")])\n",
      "res = get_slope(df[(3, \"mean\")], df[(3, \"std\")], range=slice(1, 8))[0]\n",
      "pd.Series(polyval(res, df.index), df.index).plot()\n",
      "pylab.xlim([0, 10])\n",
      "pylab.ylim([-7, -1])\n",
      "res"
     ],
     "language": "python",
     "metadata": {},
     "outputs": []
    },
    {
     "cell_type": "code",
     "collapsed": false,
     "input": [
      "df = result[result[\"eigenvalue\"] == 2]"
     ],
     "language": "python",
     "metadata": {},
     "outputs": []
    },
    {
     "cell_type": "code",
     "collapsed": false,
     "input": [
      "for i in interesting_ev:\n",
      "    df = result[result[\"eigenvalue\"] == i]\n",
      "    std = np.sqrt(df[\"variance\"])\n",
      "    print(\"%i %s\" % (i, (df[\"value\"] * std).sum() / std.sum()))"
     ],
     "language": "python",
     "metadata": {},
     "outputs": []
    }
   ],
   "metadata": {}
  }
 ]
}
