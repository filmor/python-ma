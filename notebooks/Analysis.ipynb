{
 "metadata": {
  "name": "Analysis"
 },
 "nbformat": 3,
 "nbformat_minor": 0,
 "worksheets": [
  {
   "cells": [
    {
     "cell_type": "code",
     "collapsed": false,
     "input": [
      "import pandas as pd\n",
      "from matplotlib.collections import LineCollection\n",
      "from matplotlib.colors import ListedColormap\n",
      "from pyma.slopes import *\n",
      "\n",
      "store = pd.HDFStore(\"result2.h5\")\n",
      "gevp = store.gevp"
     ],
     "language": "python",
     "metadata": {},
     "outputs": []
    },
    {
     "cell_type": "code",
     "collapsed": false,
     "input": [
      "a = get_slopes(gevp)"
     ],
     "language": "python",
     "metadata": {},
     "outputs": []
    },
    {
     "cell_type": "code",
     "collapsed": false,
     "input": [
      "a.ix[4][\"mean\"].std()"
     ],
     "language": "python",
     "metadata": {},
     "outputs": []
    },
    {
     "cell_type": "code",
     "collapsed": false,
     "input": [
      "gevp_log = np.log(gevp)\n",
      "sample = gevp_log.ix[123].ix[0]\n",
      "first = sample[[5]]\n",
      "second = sample[[4]]"
     ],
     "language": "python",
     "metadata": {},
     "outputs": []
    },
    {
     "cell_type": "code",
     "collapsed": false,
     "input": [
      "def plot_and_mark(values, mark, *args, **kwargs):\n",
      "    marked = values[mark]\n",
      "    marked[\"_second\"] = marked.shift(1)\n",
      "    unmarked = values[~mark]\n",
      "    unmarked[\"_second\"] = unmarked.shift(1)\n",
      "    lc = LineCollection([marked, unmarked], cmap=ListedColormap([\"r\", \"g\"]))\n",
      "    return lc"
     ],
     "language": "python",
     "metadata": {},
     "outputs": []
    },
    {
     "cell_type": "code",
     "collapsed": false,
     "input": [
      "lc = plot_and_mark(first, first < 5)\n",
      "lc.set_array(np.array(first))\n",
      "plt.gca().add_collection(lc)\n",
      "plot()\n"
     ],
     "language": "python",
     "metadata": {},
     "outputs": []
    },
    {
     "cell_type": "code",
     "collapsed": false,
     "input": [
      "gevp_log"
     ],
     "language": "python",
     "metadata": {},
     "outputs": []
    },
    {
     "cell_type": "code",
     "collapsed": false,
     "input": [
      "list(list(gevp_log.groupby(level=0).groupby(level=1))[0])"
     ],
     "language": "python",
     "metadata": {},
     "outputs": []
    },
    {
     "cell_type": "code",
     "collapsed": false,
     "input": [
      "def "
     ],
     "language": "python",
     "metadata": {},
     "outputs": []
    }
   ],
   "metadata": {}
  }
 ]
}
