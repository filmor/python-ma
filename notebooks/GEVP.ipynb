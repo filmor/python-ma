{
 "metadata": {
  "name": "GEVP"
 },
 "nbformat": 3,
 "nbformat_minor": 0,
 "worksheets": [
  {
   "cells": [
    {
     "cell_type": "markdown",
     "metadata": {},
     "source": [
      "Simple algorithm:\n",
      "------------------\n",
      "\n",
      "$\\begin{aligned}\n",
      "&(A - \\lambda B)x = (A - \\lambda L^t L)x = 0 \\\\\n",
      "\\Leftrightarrow& (A L^{-1} - \\lambda L^t) Lx = 0 \\\\\n",
      "\\Leftrightarrow& ((L^t)^{-1}A L^{-1} - \\lambda I) Lx = 0 \\\\\n",
      "\\Leftrightarrow& (A' - \\lambda I) b = 0\n",
      "\\end{aligned}$\n",
      "\n",
      "$A' := (L^t)^{-1} A L^{-1}$\n",
      "\n",
      "Solve the eigenvalue problem $A' - \\lambda I$ to solve the generalised eigenvalue problem $A - \\lambda B$."
     ]
    },
    {
     "cell_type": "markdown",
     "metadata": {},
     "source": [
      "Even simpler algorithm:\n",
      "------------------------\n",
      "\n",
      "For $B$ being a diagonal matrix we simply use $A' := B^{-1} A$."
     ]
    },
    {
     "cell_type": "code",
     "collapsed": false,
     "input": [
      "import numpy as np\n",
      "import pandas as pd\n",
      "import tables\n",
      "\n",
      "data = None\n",
      "with tables.open_file(\"base_data.h5\") as table:\n",
      "    data = np.array(table.get_node(\"/raw/%s\" % name))"
     ],
     "language": "python",
     "metadata": {},
     "outputs": []
    },
    {
     "cell_type": "code",
     "collapsed": false,
     "input": [
      "from IPython.parallel import Client\n",
      "import pandas as pd\n",
      "import numpy as np\n",
      "\n",
      "cl = Client()\n",
      "view = cl.load_balanced_view()\n",
      "#view = cl.direct_view()\n",
      "\n",
      "def gevp_calculator(n):\n",
      "    global data\n",
      "    \n",
      "    gevp_solutions = calculate_gevp(data[n])    \n",
      "    return gevp_solutions"
     ],
     "language": "python",
     "metadata": {},
     "outputs": []
    },
    {
     "cell_type": "code",
     "collapsed": false,
     "input": [
      "%%px\n",
      "name = \"eta\"\n",
      "node_name = \"/raw/%s\" % name\n",
      "\n",
      "import tables\n",
      "table = tables.open_file(\"base_data.h5\")\n",
      "data = table.get_node(node_name)"
     ],
     "language": "python",
     "metadata": {},
     "outputs": []
    },
    {
     "cell_type": "code",
     "collapsed": false,
     "input": [
      "%%px\n",
      "\n",
      "from imp import reload\n",
      "import pyma.reader, pyma.simple_algorithm, pyma.slopes\n",
      "reload(pyma.reader)\n",
      "reload(pyma.simple_algorithm)\n",
      "reload(pyma.slopes)\n",
      "from pyma.reader import get_matrices, open_tar_object\n",
      "from pyma.simple_algorithm import calculate_gevp"
     ],
     "language": "python",
     "metadata": {},
     "outputs": []
    },
    {
     "cell_type": "code",
     "collapsed": false,
     "input": [
      "%%time\n",
      "file_count = 1000\n",
      "result = pd.concat(\n",
      "                   list(view.map(gevp_calculator, range(file_count), block=False, ordered=False)),\n",
      "                   keys=range(file_count)\n",
      "                   )"
     ],
     "language": "python",
     "metadata": {},
     "outputs": []
    },
    {
     "cell_type": "code",
     "collapsed": false,
     "input": [
      "result.to_hdf(\"result.h5\", \"gevp_matched_ev\")"
     ],
     "language": "python",
     "metadata": {},
     "outputs": []
    },
    {
     "cell_type": "code",
     "collapsed": false,
     "input": [
      "result[4].hist()"
     ],
     "language": "python",
     "metadata": {},
     "outputs": []
    }
   ],
   "metadata": {}
  }
 ]
}
