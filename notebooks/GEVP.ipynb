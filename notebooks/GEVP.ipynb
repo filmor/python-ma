{
 "metadata": {
  "name": "GEVP"
 },
 "nbformat": 3,
 "nbformat_minor": 0,
 "worksheets": [
  {
   "cells": [
    {
     "cell_type": "code",
     "collapsed": false,
     "input": [
      "from pyma.reader import get_matrices\n",
      "import tarfile\n",
      "\n",
      "eta = tarfile.open(\"../data/eta.tar.gz\")\n",
      "pion = tarfile.open(\"../data/pion.tar.gz\")"
     ],
     "language": "python",
     "metadata": {},
     "outputs": []
    },
    {
     "cell_type": "markdown",
     "metadata": {},
     "source": [
      "$\\begin{aligned}\n",
      "&(A - \\lambda B)x = (A - \\lambda L^t L)x = 0 \\\\\n",
      "\\Leftrightarrow& (A L^{-1} - \\lambda L^t) Lx = 0 \\\\\n",
      "\\Leftrightarrow& ((L^t)^{-1}A L^{-1} - \\lambda I) Lx = 0 \\\\\n",
      "\\Leftrightarrow& (A' - \\lambda I) b = 0\n",
      "\\end{aligned}$\n",
      "\n",
      "$A' := (L^t)^{-1} A L^{-1}$"
     ]
    },
    {
     "cell_type": "code",
     "collapsed": false,
     "input": [
      "import numpy as np\n",
      "import numpy.linalg as la\n",
      "import pandas as pd\n",
      "\n",
      "def gevp(A, B):\n",
      "    L = la.cholesky(B)\n",
      "    L_inv = la.inv(L)\n",
      "    A_prime = L_inv * A * L_inv.transpose()\n",
      "    return la.eigvals(A_prime)[:3]\n",
      "\n",
      "def gevp_gen(a, t_0):\n",
      "    for j in range(t_0 + 1, 32):\n",
      "        try:\n",
      "            yield gevp(a[j], a[t_0])\n",
      "        except LinAlgError:\n",
      "            pass\n",
      "        \n",
      "def calculate_gevp(m):\n",
      "    return pd.concat({i: pd.DataFrame(list(gevp_gen(m, i))) for i in range(32)})"
     ],
     "language": "python",
     "metadata": {},
     "outputs": []
    },
    {
     "cell_type": "raw",
     "metadata": {},
     "source": [
      "for t_0 in range(5):\n",
      "    figure()\n",
      "    plots = plot(np.log(res.ix[t_0]), marker='+', linestyle=':', label=\"t_0 = %s\" % t_0)\n",
      "    legend = figlegend(plots, [1, 2, 3], \"upper right\")"
     ]
    },
    {
     "cell_type": "code",
     "collapsed": false,
     "input": [
      "def convolve(df, kernel, mode=\"same\"):\n",
      "    return df.apply(lambda x: np.convolve(x, kernel, mode))\n",
      "\n",
      "def get_first_consec(array, eps=0.05):\n",
      "    start = len(array)\n",
      "    for n, i in enumerate(abs(array) < eps):\n",
      "        if i:\n",
      "            if n < start:\n",
      "                start = n\n",
      "        else:\n",
      "            if n > start:\n",
      "                return slice(start, n)\n",
      "\n",
      "def get_slopes(gevps):\n",
      "    result = []\n",
      "    \n",
      "    gevps_log = np.log(gevps)\n",
      "    \n",
      "    for i in range(32):\n",
      "        res_log = gevps_log.ix[i]\n",
      "    \n",
      "        first_deriv = convolve(res_log, [1, -1])\n",
      "        second_deriv = convolve(res_log, [-1, 2, -1])\n",
      "        \n",
      "        try:\n",
      "            result.append([first_deriv[i][get_first_consec(second_deriv[i])].mean() for i in gevps])\n",
      "        except:\n",
      "            break\n",
      "    \n",
      "    return np.array(result)"
     ],
     "language": "python",
     "metadata": {},
     "outputs": []
    },
    {
     "cell_type": "code",
     "collapsed": false,
     "input": [
      "%%time\n",
      "import random\n",
      "\n",
      "res = []\n",
      "\n",
      "for n in range(10):\n",
      "    a = get_matrices(eta, n)\n",
      "    \n",
      "    gevps = calculate_gevp(a)\n",
      "    slopes = get_slopes(gevps)\n",
      "    res.append(slopes.mean(axis=0))\n",
      "\n",
      "res = np.array(res)"
     ],
     "language": "python",
     "metadata": {},
     "outputs": []
    },
    {
     "cell_type": "code",
     "collapsed": false,
     "input": [
      "res.mean(axis=0), res.std(axis=0)"
     ],
     "language": "python",
     "metadata": {},
     "outputs": []
    },
    {
     "cell_type": "code",
     "collapsed": false,
     "input": [
      "plot(res)"
     ],
     "language": "python",
     "metadata": {},
     "outputs": []
    },
    {
     "cell_type": "code",
     "collapsed": false,
     "input": [],
     "language": "python",
     "metadata": {},
     "outputs": []
    }
   ],
   "metadata": {}
  }
 ]
}