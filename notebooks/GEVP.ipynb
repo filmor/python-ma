{
 "metadata": {
  "name": "GEVP"
 },
 "nbformat": 3,
 "nbformat_minor": 0,
 "worksheets": [
  {
   "cells": [
    {
     "cell_type": "markdown",
     "metadata": {},
     "source": [
      "<style>.output { display:inline-block; }</style>\n",
      "Simple algorithm:\n",
      "------------------\n",
      "\n",
      "$\\begin{aligned}\n",
      "&(A - \\lambda B)x = (A - \\lambda L^t L)x = 0 \\\\\n",
      "\\Leftrightarrow& (A L^{-1} - \\lambda L^t) Lx = 0 \\\\\n",
      "\\Leftrightarrow& ((L^t)^{-1}A L^{-1} - \\lambda I) Lx = 0 \\\\\n",
      "\\Leftrightarrow& (A' - \\lambda I) b = 0\n",
      "\\end{aligned}$\n",
      "\n",
      "$A' := (L^t)^{-1} A L^{-1}$\n",
      "\n",
      "Solve the eigenvalue problem $A' - \\lambda I$ to solve the generalised eigenvalue problem $A - \\lambda B$."
     ]
    },
    {
     "cell_type": "code",
     "collapsed": false,
     "input": [
      "from IPython.parallel import Client\n",
      "import pandas as pd\n",
      "import numpy as np\n",
      "\n",
      "cl = Client()\n",
      "view = cl.load_balanced_view()\n",
      "#view = cl.direct_view()\n",
      "\n",
      "def slope_calculator(n):\n",
      "    global data_set\n",
      "    a = get_matrices(data_set, n)\n",
      "    \n",
      "    gevps = calculate_gevp(a)\n",
      "    # slopes = get_slopes(gevps, eps=0.1)\n",
      "    \n",
      "    return gevps"
     ],
     "language": "python",
     "metadata": {},
     "outputs": []
    },
    {
     "cell_type": "code",
     "collapsed": false,
     "input": [
      "%%px\n",
      "from imp import reload\n",
      "import pyma.reader, pyma.simple_algorithm, pyma.slopes\n",
      "reload(pyma.reader)\n",
      "reload(pyma.simple_algorithm)\n",
      "reload(pyma.slopes)\n",
      "from pyma.reader import get_matrices, open_tar_object\n",
      "from pyma.simple_algorithm import calculate_gevp\n",
      "from pyma.slopes import get_slopes\n",
      "\n",
      "# Open files\n",
      "data_set = open_tar_object(\"../data/eta\", simple=True)"
     ],
     "language": "python",
     "metadata": {},
     "outputs": []
    },
    {
     "cell_type": "code",
     "collapsed": false,
     "input": [
      "%%time\n",
      "file_count = 1000\n",
      "result = pd.concat(view.map(slope_calculator, range(file_count), block=False, ordered=False), keys=range(file_count))"
     ],
     "language": "python",
     "metadata": {},
     "outputs": []
    },
    {
     "cell_type": "code",
     "collapsed": false,
     "input": [
      "result.to_hdf(\"result.h5\", \"gevp\")"
     ],
     "language": "python",
     "metadata": {},
     "outputs": []
    },
    {
     "cell_type": "code",
     "collapsed": false,
     "input": [
      "result.groupby(level=0)"
     ],
     "language": "python",
     "metadata": {},
     "outputs": []
    },
    {
     "cell_type": "code",
     "collapsed": false,
     "input": [],
     "language": "python",
     "metadata": {},
     "outputs": []
    }
   ],
   "metadata": {}
  }
 ]
}
