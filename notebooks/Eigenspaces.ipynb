{
 "metadata": {
  "name": ""
 },
 "nbformat": 3,
 "nbformat_minor": 0,
 "worksheets": [
  {
   "cells": [
    {
     "cell_type": "code",
     "collapsed": false,
     "input": [
      "%load_ext cythonmagic"
     ],
     "language": "python",
     "metadata": {},
     "outputs": []
    },
    {
     "cell_type": "code",
     "collapsed": false,
     "input": [
      "import pandas as pd\n",
      "import numpy as np\n",
      "import scipy as sp\n",
      "import numpy.linalg as nla\n",
      "import scipy.linalg as la\n",
      "import tables\n",
      "\n",
      "with tables.open_file(\"../data/base_data.h5\") as t:\n",
      "    data = np.array(t.get_node(\"/input/eta_sym\"))"
     ],
     "language": "python",
     "metadata": {},
     "outputs": []
    },
    {
     "cell_type": "code",
     "collapsed": false,
     "input": [
      "init = data[0]\n",
      "data_variance = np.sqrt(data[1:].var(axis=0).sum(axis=(1, 2)))\n",
      "errors = np.sqrt(data[1:].var(axis=0))"
     ],
     "language": "python",
     "metadata": {},
     "outputs": []
    },
    {
     "cell_type": "code",
     "collapsed": false,
     "input": [
      "plt.gca().set_yscale(\"log\")\n",
      "plot([la.eigvalsh(init[i], init[3]) for i in range(32)])"
     ],
     "language": "python",
     "metadata": {},
     "outputs": []
    },
    {
     "cell_type": "code",
     "collapsed": false,
     "input": [
      "eigv = [la.eigh(init[i]) for i in range(32)]"
     ],
     "language": "python",
     "metadata": {},
     "outputs": []
    },
    {
     "cell_type": "code",
     "collapsed": false,
     "input": [
      "# Gets index generator that gives the permutation to get data sorted\n",
      "def permutation_indices(data):\n",
      "     return sorted(range(len(data)), key = data.__getitem__)\n",
      "\n",
      "def reorder_ev(ev1, ev2):\n",
      "    dot_products = [np.abs(np.dot(e, ev1)) for e in ev2.transpose()]\n",
      "    res = []\n",
      "    for m in dot_products:\n",
      "        for candidate in permutation_indices(m):\n",
      "            if not candidate in res:\n",
      "                res.append(candidate)\n",
      "                break\n",
      "    assert len(res) == len(dot_products)\n",
      "    return res"
     ],
     "language": "python",
     "metadata": {},
     "outputs": []
    },
    {
     "cell_type": "code",
     "collapsed": false,
     "input": [
      "plt.gca().set_yscale(\"log\")\n",
      "plot([eigv[i][0][reorder_ev(eigv[0][1], eigv[i][1])] for i in range(32)])"
     ],
     "language": "python",
     "metadata": {},
     "outputs": []
    },
    {
     "cell_type": "code",
     "collapsed": false,
     "input": [
      "init.swapaxes(0, 2).flatten(0)"
     ],
     "language": "python",
     "metadata": {},
     "outputs": []
    },
    {
     "cell_type": "code",
     "collapsed": false,
     "input": [
      "reshaped = init.reshape((32, 36))"
     ],
     "language": "python",
     "metadata": {},
     "outputs": []
    },
    {
     "cell_type": "code",
     "collapsed": false,
     "input": [
      "matshow(np.cov(reshaped, rowvar=False))"
     ],
     "language": "python",
     "metadata": {},
     "outputs": []
    },
    {
     "cell_type": "code",
     "collapsed": false,
     "input": [
      "def autocorr(x):\n",
      "    result = numpy.correlate(x, x, mode='full')\n",
      "    return result[result.size/2:]\n",
      "\n",
      "plt.gca().set_yscale(\"log\")\n",
      "for i in range(32):\n",
      "    plot(autocorr(reshaped[:,i]))\n",
      "\n",
      "np.c"
     ],
     "language": "python",
     "metadata": {},
     "outputs": []
    },
    {
     "cell_type": "code",
     "collapsed": false,
     "input": [
      "matshow([np.linspace(0, 1, 50)])"
     ],
     "language": "python",
     "metadata": {},
     "outputs": []
    },
    {
     "cell_type": "code",
     "collapsed": false,
     "input": [
      "_ = [matshow(errors[i] / init[i]) for i in range(32)]"
     ],
     "language": "python",
     "metadata": {},
     "outputs": []
    },
    {
     "cell_type": "code",
     "collapsed": false,
     "input": [
      "from pyma.gevp import permutation_indices"
     ],
     "language": "python",
     "metadata": {},
     "outputs": []
    },
    {
     "cell_type": "code",
     "collapsed": false,
     "input": [
      "sorted_eigenvectors = np.array([vec[:,permutation_indices(val)] for val, vec in (la.eigh(m) for m in init)])"
     ],
     "language": "python",
     "metadata": {},
     "outputs": []
    },
    {
     "cell_type": "code",
     "collapsed": false,
     "input": [
      "sorted_eigenvectors[0][0] / la.norm(sorted_eigenvectors[0][0])"
     ],
     "language": "python",
     "metadata": {},
     "outputs": []
    },
    {
     "cell_type": "code",
     "collapsed": false,
     "input": [
      "[nla.cond(init[i]) for i in range(len(init))]"
     ],
     "language": "python",
     "metadata": {},
     "outputs": []
    },
    {
     "cell_type": "code",
     "collapsed": false,
     "input": [],
     "language": "python",
     "metadata": {},
     "outputs": []
    },
    {
     "cell_type": "code",
     "collapsed": false,
     "input": [],
     "language": "python",
     "metadata": {},
     "outputs": []
    },
    {
     "cell_type": "code",
     "collapsed": false,
     "input": [
      "h"
     ],
     "language": "python",
     "metadata": {},
     "outputs": []
    }
   ],
   "metadata": {}
  }
 ]
}
